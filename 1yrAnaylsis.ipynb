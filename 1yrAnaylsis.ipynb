{
  "nbformat": 4,
  "nbformat_minor": 0,
  "metadata": {
    "colab": {
      "provenance": []
    },
    "kernelspec": {
      "name": "python3",
      "display_name": "Python 3"
    },
    "language_info": {
      "name": "python"
    }
  },
  "cells": [
    {
      "cell_type": "markdown",
      "source": [
        "## ***Scenerio:***\n",
        "\n",
        "\n",
        "Being a junior data analyst working in the marketing analyst team at Cyclistic, a bike-share company in Chicago. The director\n",
        "of marketing believes the company’s future success depends on maximizing the number of annual memberships. Therefore,\n",
        "your team wants to understand how casual riders and annual members use Cyclistic bikes differently. From these insights,\n",
        "your team will design a new marketing strategy to convert casual riders into annual members. But first, Cyclistic executives\n",
        "must approve your recommendations, so they must be backed up with compelling data insights and professional data\n",
        "visualizations"
      ],
      "metadata": {
        "id": "9Jvvn_InDc03"
      }
    },
    {
      "cell_type": "markdown",
      "source": [
        "### ***Business task as of scenario given***:\n",
        "\n",
        "---\n",
        "\n",
        "\n",
        "\n",
        "\n",
        "*   How the casual and annual riders use Cyclist differently\n",
        "*   How to convert the casual into member(Annual)\n",
        "\n"
      ],
      "metadata": {
        "id": "7McNammTDcpZ"
      }
    },
    {
      "cell_type": "markdown",
      "source": [
        "***Total 12 months data is being provided to by the company for analysis***"
      ],
      "metadata": {
        "id": "mMSOzCCZImuM"
      }
    },
    {
      "cell_type": "markdown",
      "source": [
        "### ***Data Cleaning:***\n",
        "\n",
        "---\n",
        "Before we clean the data, we will store all the 12 months csv file in a folder named \"Data\"\n",
        "Then, here i have used excel to clean the data for each file before analyzing the whole 12 months data using python\n",
        "\n",
        "**Steps to clean the data in excel:**\n",
        "\n",
        "\n",
        "1.   Remove Duplicate\n",
        "2.   Fix structural Error\n",
        "3.   Filter unwanted outliers\n",
        "4.   Handle missing data\n",
        "5.   Validate\n",
        "\n",
        "\n",
        "\n",
        "\n"
      ],
      "metadata": {
        "id": "6B6amGIUDce-"
      }
    },
    {
      "cell_type": "markdown",
      "source": [
        "-After cleaning the data i took and overview of the data to get an idea what are the column and rows provided and what they actually mean to say through the numbers and text. This action gave me the idea of how to differentiate the casual and member(Annual member).\n",
        "\n",
        "\n",
        "-Few of the idea i got is to differential them through the time duration in \n",
        "riding the bike and type of bike used by them on daily basis. \n",
        "(Note:- This is just the idea i got after an overview of what to do, it may not come out to be exact true or same .. idea will change once we start analysing.)"
      ],
      "metadata": {
        "id": "TawcnxRWImrp"
      }
    },
    {
      "cell_type": "markdown",
      "source": [
        "### ***Getting Ready for Analyzing***\n",
        "\n",
        "\n",
        "---\n",
        "\n",
        "\n",
        "\n",
        "---\n",
        "\n",
        "\n",
        "\n",
        "I have put the data in google drive under the data folder and then from their i can get the access of the csv files of all 12 months \n",
        "\n",
        "We are going to use google colab for analysing and data visualizatuion.This is easy to process the data of all 12 months as excel cant handle so much data.\n",
        "\n",
        "Before analyzing in python, i have added the column of days_pf_week in all the csv file using excel which inform us about the days of that month. for eg. 1=Monday and 7=Sunday and so on. Also i kept the format of that column as Number.\n",
        "\n",
        "\n"
      ],
      "metadata": {
        "id": "4jECyq1KImmS"
      }
    },
    {
      "cell_type": "markdown",
      "source": [
        "# **Analysis**\n",
        "\n",
        "I'll be using the jupyter in google colab \n",
        "\n",
        "Libraries used here are\n",
        "\n",
        "\n",
        "*   Pandas\n",
        "*   MatplotLib\n",
        "*   Numpy\n",
        "\n",
        "\n",
        "\n"
      ],
      "metadata": {
        "id": "YFdzj-59Imjq"
      }
    },
    {
      "cell_type": "code",
      "source": [],
      "metadata": {
        "id": "YYr7Ir1xZi5g"
      },
      "execution_count": null,
      "outputs": []
    },
    {
      "cell_type": "code",
      "execution_count": null,
      "metadata": {
        "id": "Jktkul28YbBI"
      },
      "outputs": [],
      "source": [
        "import pandas as pd"
      ]
    },
    {
      "cell_type": "code",
      "source": [
        "#getting csv file imported here from google drive"
      ],
      "metadata": {
        "id": "FzODgVa8Zpa3"
      },
      "execution_count": null,
      "outputs": []
    },
    {
      "cell_type": "code",
      "source": [
        "from google.colab import  drive"
      ],
      "metadata": {
        "id": "GpDMN-NoY3B5"
      },
      "execution_count": null,
      "outputs": []
    },
    {
      "cell_type": "code",
      "source": [
        "drive.mount('/content/drive')"
      ],
      "metadata": {
        "colab": {
          "base_uri": "https://localhost:8080/"
        },
        "id": "MYHGaP6NZjJh",
        "outputId": "45937fe7-351c-4608-9767-66e22cd60ab1"
      },
      "execution_count": null,
      "outputs": [
        {
          "output_type": "stream",
          "name": "stdout",
          "text": [
            "Drive already mounted at /content/drive; to attempt to forcibly remount, call drive.mount(\"/content/drive\", force_remount=True).\n"
          ]
        }
      ]
    },
    {
      "cell_type": "code",
      "source": [
        "path = '/content/drive/MyDrive/Data/202112-divvy-tripdata.csv'\n",
        "path1 = '/content/drive/MyDrive/Data/202201-divvy-tripdata.csv'\n",
        "path2 = '/content/drive/MyDrive/Data/202202-divvy-tripdata.csv'\n",
        "path3 = '/content/drive/MyDrive/Data/202203-divvy-tripdata.csv'\n",
        "path4 = '/content/drive/MyDrive/Data/202204-divvy-tripdata.csv'\n",
        "path5 = '/content/drive/MyDrive/Data/202205-divvy-tripdata.csv'\n",
        "path6 = '/content/drive/MyDrive/Data/202206-divvy-tripdata.csv'\n",
        "path7 = '/content/drive/MyDrive/Data/202207-divvy-tripdata.csv'\n",
        "path8 = '/content/drive/MyDrive/Data/202208-divvy-tripdata.csv'\n",
        "path9 = '/content/drive/MyDrive/Data/202209-divvy-publictripdata.csv'\n",
        "path10 = '/content/drive/MyDrive/Data/202210-divvy-tripdata.csv'\n",
        "path11 = '/content/drive/MyDrive/Data/202211-divvy-tripdata.csv'"
      ],
      "metadata": {
        "id": "eDNuUtmanyQe"
      },
      "execution_count": null,
      "outputs": []
    },
    {
      "cell_type": "code",
      "source": [
        "df= pd.read_csv(path)\n",
        "df1= pd.read_csv(path1)\n",
        "df2= pd.read_csv(path2)\n",
        "df3= pd.read_csv(path3)\n",
        "df4= pd.read_csv(path4)\n",
        "df5= pd.read_csv(path5)\n",
        "df6= pd.read_csv(path6)\n",
        "df7= pd.read_csv(path7)\n",
        "df8= pd.read_csv(path8)\n",
        "df9= pd.read_csv(path9)\n",
        "df10= pd.read_csv(path10)\n",
        "df11= pd.read_csv(path11)\n"
      ],
      "metadata": {
        "id": "aUHLZTgqp7aO"
      },
      "execution_count": null,
      "outputs": []
    },
    {
      "cell_type": "code",
      "source": [],
      "metadata": {
        "id": "Mxoxf05nbSj9"
      },
      "execution_count": null,
      "outputs": []
    },
    {
      "cell_type": "markdown",
      "source": [
        "Merging all the 12 months csv file in one dataframe "
      ],
      "metadata": {
        "id": "3gJy5f7GbGY7"
      }
    },
    {
      "cell_type": "code",
      "source": [
        "dfss= pd.concat(map(pd.read_csv, [path,path1,path2,path3,path4,path5,path6,path7,path8,path9,path10,path11]), ignore_index=True)\n",
        "dfss"
      ],
      "metadata": {
        "colab": {
          "base_uri": "https://localhost:8080/",
          "height": 852
        },
        "id": "0a6GOMwB-KNK",
        "outputId": "b9d5e99a-2d6f-44f4-b393-273a34cb888e"
      },
      "execution_count": null,
      "outputs": [
        {
          "output_type": "execute_result",
          "data": {
            "text/plain": [
              "                  ride_id  rideable_type        started_at          ended_at  \\\n",
              "0        46F8167220E4431F  electric_bike  07-12-2021 15:06  07-12-2021 15:13   \n",
              "1        73A77762838B32FD  electric_bike  11-12-2021 03:43  11-12-2021 04:10   \n",
              "2        4CF42452054F59C5  electric_bike  15-12-2021 23:10  15-12-2021 23:23   \n",
              "3        3278BA87BF698339   classic_bike  26-12-2021 16:16  26-12-2021 16:30   \n",
              "4        6FF54232576A3B73  electric_bike  30-12-2021 11:31  30-12-2021 11:51   \n",
              "...                   ...            ...               ...               ...   \n",
              "5733446  C349E243A9BAA6F7  electric_bike  25-11-2022 11:19  25-11-2022 11:31   \n",
              "5733447  B0B4E85DA43A9194   classic_bike  22-11-2022 16:57  22-11-2022 17:31   \n",
              "5733448  8D148DD47B59530B   classic_bike  06-11-2022 13:04  06-11-2022 13:13   \n",
              "5733449  0D1170BA18FD33D1   classic_bike  06-11-2022 09:41  06-11-2022 15:17   \n",
              "5733450  09B20DC75B5EA1E0  electric_bike  26-11-2022 11:59  26-11-2022 12:31   \n",
              "\n",
              "        ride_length  days_of_week member_casual  \\\n",
              "0          00:07:35             3        member   \n",
              "1          00:26:54             7        casual   \n",
              "2          00:12:46             4        member   \n",
              "3          00:14:43             1        member   \n",
              "4          00:20:16             5        member   \n",
              "...             ...           ...           ...   \n",
              "5733446    00:11:58             6        member   \n",
              "5733447    00:33:36             3        casual   \n",
              "5733448    00:09:28             1        casual   \n",
              "5733449    05:35:48             1        casual   \n",
              "5733450    00:31:36             7        casual   \n",
              "\n",
              "                    start_station_name start_station_id  \\\n",
              "0             Laflin St & Cullerton St            13307   \n",
              "1                LaSalle Dr & Huron St     KP1705001026   \n",
              "2         Halsted St & North Branch St     KA1504000117   \n",
              "3         Halsted St & North Branch St     KA1504000117   \n",
              "4             Leavitt St & Chicago Ave            18058   \n",
              "...                                ...              ...   \n",
              "5733446         Wabash Ave & Grand Ave     TA1307000117   \n",
              "5733447     Franklin St & Jackson Blvd     TA1305000025   \n",
              "5733448  Michigan Ave & Ida B Wells Dr     TA1305000010   \n",
              "5733449           Halsted St & 18th St            13099   \n",
              "5733450  Michigan Ave & Ida B Wells Dr     TA1305000010   \n",
              "\n",
              "                       end_station_name end_station_id  start_lat  start_lng  \\\n",
              "0                   Morgan St & Polk St   TA1307000130  41.854833 -87.663660   \n",
              "1            Clarendon Ave & Leland Ave   TA1307000119  41.894405 -87.632331   \n",
              "2                  Broadway & Barry Ave          13137  41.899357 -87.648522   \n",
              "3                 LaSalle Dr & Huron St   KP1705001026  41.899390 -87.648545   \n",
              "4                Clark St & Drummond Pl   TA1307000142  41.895579 -87.682024   \n",
              "...                                 ...            ...        ...        ...   \n",
              "5733446                             NaN            NaN  41.891836 -87.626806   \n",
              "5733447  Sheffield Ave & Wrightwood Ave   TA1309000023  41.877708 -87.635321   \n",
              "5733448                  Shedd Aquarium          15544  41.876243 -87.624426   \n",
              "5733449                  Shedd Aquarium          15544  41.857506 -87.645991   \n",
              "5733450                  Shedd Aquarium          15544  41.876272 -87.624576   \n",
              "\n",
              "           end_lat    end_lng ride-length  \n",
              "0        41.871969 -87.650965         NaN  \n",
              "1        41.967968 -87.650001         NaN  \n",
              "2        41.937582 -87.644098         NaN  \n",
              "3        41.894877 -87.632326         NaN  \n",
              "4        41.931248 -87.644336         NaN  \n",
              "...            ...        ...         ...  \n",
              "5733446  41.890000 -87.620000         NaN  \n",
              "5733447  41.928712 -87.653833         NaN  \n",
              "5733448  41.867226 -87.615355         NaN  \n",
              "5733449  41.867226 -87.615355         NaN  \n",
              "5733450  41.867226 -87.615355         NaN  \n",
              "\n",
              "[5733451 rows x 16 columns]"
            ],
            "text/html": [
              "\n",
              "  <div id=\"df-1a8107c2-ab1f-4dd4-9b34-81cdfb9a866c\">\n",
              "    <div class=\"colab-df-container\">\n",
              "      <div>\n",
              "<style scoped>\n",
              "    .dataframe tbody tr th:only-of-type {\n",
              "        vertical-align: middle;\n",
              "    }\n",
              "\n",
              "    .dataframe tbody tr th {\n",
              "        vertical-align: top;\n",
              "    }\n",
              "\n",
              "    .dataframe thead th {\n",
              "        text-align: right;\n",
              "    }\n",
              "</style>\n",
              "<table border=\"1\" class=\"dataframe\">\n",
              "  <thead>\n",
              "    <tr style=\"text-align: right;\">\n",
              "      <th></th>\n",
              "      <th>ride_id</th>\n",
              "      <th>rideable_type</th>\n",
              "      <th>started_at</th>\n",
              "      <th>ended_at</th>\n",
              "      <th>ride_length</th>\n",
              "      <th>days_of_week</th>\n",
              "      <th>member_casual</th>\n",
              "      <th>start_station_name</th>\n",
              "      <th>start_station_id</th>\n",
              "      <th>end_station_name</th>\n",
              "      <th>end_station_id</th>\n",
              "      <th>start_lat</th>\n",
              "      <th>start_lng</th>\n",
              "      <th>end_lat</th>\n",
              "      <th>end_lng</th>\n",
              "      <th>ride-length</th>\n",
              "    </tr>\n",
              "  </thead>\n",
              "  <tbody>\n",
              "    <tr>\n",
              "      <th>0</th>\n",
              "      <td>46F8167220E4431F</td>\n",
              "      <td>electric_bike</td>\n",
              "      <td>07-12-2021 15:06</td>\n",
              "      <td>07-12-2021 15:13</td>\n",
              "      <td>00:07:35</td>\n",
              "      <td>3</td>\n",
              "      <td>member</td>\n",
              "      <td>Laflin St &amp; Cullerton St</td>\n",
              "      <td>13307</td>\n",
              "      <td>Morgan St &amp; Polk St</td>\n",
              "      <td>TA1307000130</td>\n",
              "      <td>41.854833</td>\n",
              "      <td>-87.663660</td>\n",
              "      <td>41.871969</td>\n",
              "      <td>-87.650965</td>\n",
              "      <td>NaN</td>\n",
              "    </tr>\n",
              "    <tr>\n",
              "      <th>1</th>\n",
              "      <td>73A77762838B32FD</td>\n",
              "      <td>electric_bike</td>\n",
              "      <td>11-12-2021 03:43</td>\n",
              "      <td>11-12-2021 04:10</td>\n",
              "      <td>00:26:54</td>\n",
              "      <td>7</td>\n",
              "      <td>casual</td>\n",
              "      <td>LaSalle Dr &amp; Huron St</td>\n",
              "      <td>KP1705001026</td>\n",
              "      <td>Clarendon Ave &amp; Leland Ave</td>\n",
              "      <td>TA1307000119</td>\n",
              "      <td>41.894405</td>\n",
              "      <td>-87.632331</td>\n",
              "      <td>41.967968</td>\n",
              "      <td>-87.650001</td>\n",
              "      <td>NaN</td>\n",
              "    </tr>\n",
              "    <tr>\n",
              "      <th>2</th>\n",
              "      <td>4CF42452054F59C5</td>\n",
              "      <td>electric_bike</td>\n",
              "      <td>15-12-2021 23:10</td>\n",
              "      <td>15-12-2021 23:23</td>\n",
              "      <td>00:12:46</td>\n",
              "      <td>4</td>\n",
              "      <td>member</td>\n",
              "      <td>Halsted St &amp; North Branch St</td>\n",
              "      <td>KA1504000117</td>\n",
              "      <td>Broadway &amp; Barry Ave</td>\n",
              "      <td>13137</td>\n",
              "      <td>41.899357</td>\n",
              "      <td>-87.648522</td>\n",
              "      <td>41.937582</td>\n",
              "      <td>-87.644098</td>\n",
              "      <td>NaN</td>\n",
              "    </tr>\n",
              "    <tr>\n",
              "      <th>3</th>\n",
              "      <td>3278BA87BF698339</td>\n",
              "      <td>classic_bike</td>\n",
              "      <td>26-12-2021 16:16</td>\n",
              "      <td>26-12-2021 16:30</td>\n",
              "      <td>00:14:43</td>\n",
              "      <td>1</td>\n",
              "      <td>member</td>\n",
              "      <td>Halsted St &amp; North Branch St</td>\n",
              "      <td>KA1504000117</td>\n",
              "      <td>LaSalle Dr &amp; Huron St</td>\n",
              "      <td>KP1705001026</td>\n",
              "      <td>41.899390</td>\n",
              "      <td>-87.648545</td>\n",
              "      <td>41.894877</td>\n",
              "      <td>-87.632326</td>\n",
              "      <td>NaN</td>\n",
              "    </tr>\n",
              "    <tr>\n",
              "      <th>4</th>\n",
              "      <td>6FF54232576A3B73</td>\n",
              "      <td>electric_bike</td>\n",
              "      <td>30-12-2021 11:31</td>\n",
              "      <td>30-12-2021 11:51</td>\n",
              "      <td>00:20:16</td>\n",
              "      <td>5</td>\n",
              "      <td>member</td>\n",
              "      <td>Leavitt St &amp; Chicago Ave</td>\n",
              "      <td>18058</td>\n",
              "      <td>Clark St &amp; Drummond Pl</td>\n",
              "      <td>TA1307000142</td>\n",
              "      <td>41.895579</td>\n",
              "      <td>-87.682024</td>\n",
              "      <td>41.931248</td>\n",
              "      <td>-87.644336</td>\n",
              "      <td>NaN</td>\n",
              "    </tr>\n",
              "    <tr>\n",
              "      <th>...</th>\n",
              "      <td>...</td>\n",
              "      <td>...</td>\n",
              "      <td>...</td>\n",
              "      <td>...</td>\n",
              "      <td>...</td>\n",
              "      <td>...</td>\n",
              "      <td>...</td>\n",
              "      <td>...</td>\n",
              "      <td>...</td>\n",
              "      <td>...</td>\n",
              "      <td>...</td>\n",
              "      <td>...</td>\n",
              "      <td>...</td>\n",
              "      <td>...</td>\n",
              "      <td>...</td>\n",
              "      <td>...</td>\n",
              "    </tr>\n",
              "    <tr>\n",
              "      <th>5733446</th>\n",
              "      <td>C349E243A9BAA6F7</td>\n",
              "      <td>electric_bike</td>\n",
              "      <td>25-11-2022 11:19</td>\n",
              "      <td>25-11-2022 11:31</td>\n",
              "      <td>00:11:58</td>\n",
              "      <td>6</td>\n",
              "      <td>member</td>\n",
              "      <td>Wabash Ave &amp; Grand Ave</td>\n",
              "      <td>TA1307000117</td>\n",
              "      <td>NaN</td>\n",
              "      <td>NaN</td>\n",
              "      <td>41.891836</td>\n",
              "      <td>-87.626806</td>\n",
              "      <td>41.890000</td>\n",
              "      <td>-87.620000</td>\n",
              "      <td>NaN</td>\n",
              "    </tr>\n",
              "    <tr>\n",
              "      <th>5733447</th>\n",
              "      <td>B0B4E85DA43A9194</td>\n",
              "      <td>classic_bike</td>\n",
              "      <td>22-11-2022 16:57</td>\n",
              "      <td>22-11-2022 17:31</td>\n",
              "      <td>00:33:36</td>\n",
              "      <td>3</td>\n",
              "      <td>casual</td>\n",
              "      <td>Franklin St &amp; Jackson Blvd</td>\n",
              "      <td>TA1305000025</td>\n",
              "      <td>Sheffield Ave &amp; Wrightwood Ave</td>\n",
              "      <td>TA1309000023</td>\n",
              "      <td>41.877708</td>\n",
              "      <td>-87.635321</td>\n",
              "      <td>41.928712</td>\n",
              "      <td>-87.653833</td>\n",
              "      <td>NaN</td>\n",
              "    </tr>\n",
              "    <tr>\n",
              "      <th>5733448</th>\n",
              "      <td>8D148DD47B59530B</td>\n",
              "      <td>classic_bike</td>\n",
              "      <td>06-11-2022 13:04</td>\n",
              "      <td>06-11-2022 13:13</td>\n",
              "      <td>00:09:28</td>\n",
              "      <td>1</td>\n",
              "      <td>casual</td>\n",
              "      <td>Michigan Ave &amp; Ida B Wells Dr</td>\n",
              "      <td>TA1305000010</td>\n",
              "      <td>Shedd Aquarium</td>\n",
              "      <td>15544</td>\n",
              "      <td>41.876243</td>\n",
              "      <td>-87.624426</td>\n",
              "      <td>41.867226</td>\n",
              "      <td>-87.615355</td>\n",
              "      <td>NaN</td>\n",
              "    </tr>\n",
              "    <tr>\n",
              "      <th>5733449</th>\n",
              "      <td>0D1170BA18FD33D1</td>\n",
              "      <td>classic_bike</td>\n",
              "      <td>06-11-2022 09:41</td>\n",
              "      <td>06-11-2022 15:17</td>\n",
              "      <td>05:35:48</td>\n",
              "      <td>1</td>\n",
              "      <td>casual</td>\n",
              "      <td>Halsted St &amp; 18th St</td>\n",
              "      <td>13099</td>\n",
              "      <td>Shedd Aquarium</td>\n",
              "      <td>15544</td>\n",
              "      <td>41.857506</td>\n",
              "      <td>-87.645991</td>\n",
              "      <td>41.867226</td>\n",
              "      <td>-87.615355</td>\n",
              "      <td>NaN</td>\n",
              "    </tr>\n",
              "    <tr>\n",
              "      <th>5733450</th>\n",
              "      <td>09B20DC75B5EA1E0</td>\n",
              "      <td>electric_bike</td>\n",
              "      <td>26-11-2022 11:59</td>\n",
              "      <td>26-11-2022 12:31</td>\n",
              "      <td>00:31:36</td>\n",
              "      <td>7</td>\n",
              "      <td>casual</td>\n",
              "      <td>Michigan Ave &amp; Ida B Wells Dr</td>\n",
              "      <td>TA1305000010</td>\n",
              "      <td>Shedd Aquarium</td>\n",
              "      <td>15544</td>\n",
              "      <td>41.876272</td>\n",
              "      <td>-87.624576</td>\n",
              "      <td>41.867226</td>\n",
              "      <td>-87.615355</td>\n",
              "      <td>NaN</td>\n",
              "    </tr>\n",
              "  </tbody>\n",
              "</table>\n",
              "<p>5733451 rows × 16 columns</p>\n",
              "</div>\n",
              "      <button class=\"colab-df-convert\" onclick=\"convertToInteractive('df-1a8107c2-ab1f-4dd4-9b34-81cdfb9a866c')\"\n",
              "              title=\"Convert this dataframe to an interactive table.\"\n",
              "              style=\"display:none;\">\n",
              "        \n",
              "  <svg xmlns=\"http://www.w3.org/2000/svg\" height=\"24px\"viewBox=\"0 0 24 24\"\n",
              "       width=\"24px\">\n",
              "    <path d=\"M0 0h24v24H0V0z\" fill=\"none\"/>\n",
              "    <path d=\"M18.56 5.44l.94 2.06.94-2.06 2.06-.94-2.06-.94-.94-2.06-.94 2.06-2.06.94zm-11 1L8.5 8.5l.94-2.06 2.06-.94-2.06-.94L8.5 2.5l-.94 2.06-2.06.94zm10 10l.94 2.06.94-2.06 2.06-.94-2.06-.94-.94-2.06-.94 2.06-2.06.94z\"/><path d=\"M17.41 7.96l-1.37-1.37c-.4-.4-.92-.59-1.43-.59-.52 0-1.04.2-1.43.59L10.3 9.45l-7.72 7.72c-.78.78-.78 2.05 0 2.83L4 21.41c.39.39.9.59 1.41.59.51 0 1.02-.2 1.41-.59l7.78-7.78 2.81-2.81c.8-.78.8-2.07 0-2.86zM5.41 20L4 18.59l7.72-7.72 1.47 1.35L5.41 20z\"/>\n",
              "  </svg>\n",
              "      </button>\n",
              "      \n",
              "  <style>\n",
              "    .colab-df-container {\n",
              "      display:flex;\n",
              "      flex-wrap:wrap;\n",
              "      gap: 12px;\n",
              "    }\n",
              "\n",
              "    .colab-df-convert {\n",
              "      background-color: #E8F0FE;\n",
              "      border: none;\n",
              "      border-radius: 50%;\n",
              "      cursor: pointer;\n",
              "      display: none;\n",
              "      fill: #1967D2;\n",
              "      height: 32px;\n",
              "      padding: 0 0 0 0;\n",
              "      width: 32px;\n",
              "    }\n",
              "\n",
              "    .colab-df-convert:hover {\n",
              "      background-color: #E2EBFA;\n",
              "      box-shadow: 0px 1px 2px rgba(60, 64, 67, 0.3), 0px 1px 3px 1px rgba(60, 64, 67, 0.15);\n",
              "      fill: #174EA6;\n",
              "    }\n",
              "\n",
              "    [theme=dark] .colab-df-convert {\n",
              "      background-color: #3B4455;\n",
              "      fill: #D2E3FC;\n",
              "    }\n",
              "\n",
              "    [theme=dark] .colab-df-convert:hover {\n",
              "      background-color: #434B5C;\n",
              "      box-shadow: 0px 1px 3px 1px rgba(0, 0, 0, 0.15);\n",
              "      filter: drop-shadow(0px 1px 2px rgba(0, 0, 0, 0.3));\n",
              "      fill: #FFFFFF;\n",
              "    }\n",
              "  </style>\n",
              "\n",
              "      <script>\n",
              "        const buttonEl =\n",
              "          document.querySelector('#df-1a8107c2-ab1f-4dd4-9b34-81cdfb9a866c button.colab-df-convert');\n",
              "        buttonEl.style.display =\n",
              "          google.colab.kernel.accessAllowed ? 'block' : 'none';\n",
              "\n",
              "        async function convertToInteractive(key) {\n",
              "          const element = document.querySelector('#df-1a8107c2-ab1f-4dd4-9b34-81cdfb9a866c');\n",
              "          const dataTable =\n",
              "            await google.colab.kernel.invokeFunction('convertToInteractive',\n",
              "                                                     [key], {});\n",
              "          if (!dataTable) return;\n",
              "\n",
              "          const docLinkHtml = 'Like what you see? Visit the ' +\n",
              "            '<a target=\"_blank\" href=https://colab.research.google.com/notebooks/data_table.ipynb>data table notebook</a>'\n",
              "            + ' to learn more about interactive tables.';\n",
              "          element.innerHTML = '';\n",
              "          dataTable['output_type'] = 'display_data';\n",
              "          await google.colab.output.renderOutput(dataTable, element);\n",
              "          const docLink = document.createElement('div');\n",
              "          docLink.innerHTML = docLinkHtml;\n",
              "          element.appendChild(docLink);\n",
              "        }\n",
              "      </script>\n",
              "    </div>\n",
              "  </div>\n",
              "  "
            ]
          },
          "metadata": {},
          "execution_count": 7
        }
      ]
    },
    {
      "cell_type": "code",
      "source": [
        "dfss.columns"
      ],
      "metadata": {
        "colab": {
          "base_uri": "https://localhost:8080/"
        },
        "id": "Rz4Xh2ymfxJM",
        "outputId": "bc4dfdaa-d696-49c4-d4fb-523d794ce49e"
      },
      "execution_count": null,
      "outputs": [
        {
          "output_type": "execute_result",
          "data": {
            "text/plain": [
              "Index(['ride_id', 'rideable_type', 'started_at', 'ended_at', 'ride_length',\n",
              "       'days_of_week', 'member_casual', 'start_station_name',\n",
              "       'start_station_id', 'end_station_name', 'end_station_id', 'start_lat',\n",
              "       'start_lng', 'end_lat', 'end_lng', 'ride-length'],\n",
              "      dtype='object')"
            ]
          },
          "metadata": {},
          "execution_count": 8
        }
      ]
    },
    {
      "cell_type": "code",
      "source": [
        "dfss.info()"
      ],
      "metadata": {
        "colab": {
          "base_uri": "https://localhost:8080/"
        },
        "id": "j1c3tBVLf9X8",
        "outputId": "9a4eeeea-fd8d-4223-a584-705f58e115ec"
      },
      "execution_count": null,
      "outputs": [
        {
          "output_type": "stream",
          "name": "stdout",
          "text": [
            "<class 'pandas.core.frame.DataFrame'>\n",
            "RangeIndex: 5733451 entries, 0 to 5733450\n",
            "Data columns (total 16 columns):\n",
            " #   Column              Dtype  \n",
            "---  ------              -----  \n",
            " 0   ride_id             object \n",
            " 1   rideable_type       object \n",
            " 2   started_at          object \n",
            " 3   ended_at            object \n",
            " 4   ride_length         object \n",
            " 5   days_of_week        int64  \n",
            " 6   member_casual       object \n",
            " 7   start_station_name  object \n",
            " 8   start_station_id    object \n",
            " 9   end_station_name    object \n",
            " 10  end_station_id      object \n",
            " 11  start_lat           float64\n",
            " 12  start_lng           float64\n",
            " 13  end_lat             float64\n",
            " 14  end_lng             float64\n",
            " 15  ride-length         object \n",
            "dtypes: float64(4), int64(1), object(11)\n",
            "memory usage: 699.9+ MB\n"
          ]
        }
      ]
    },
    {
      "cell_type": "code",
      "source": [],
      "metadata": {
        "id": "nK5FatFgbY4o"
      },
      "execution_count": null,
      "outputs": []
    },
    {
      "cell_type": "markdown",
      "source": [
        "Converting the started_at and ended_at column into datetime datatype for better future references and graphical representation"
      ],
      "metadata": {
        "id": "d9fl6YSEbWec"
      }
    },
    {
      "cell_type": "code",
      "source": [
        "dfss['started_at'] = pd.to_datetime(dfss['started_at'],dayfirst=True)\n",
        "dfss['ended_at'] = pd.to_datetime(dfss['ended_at'], dayfirst=True)\n",
        "dfss"
      ],
      "metadata": {
        "colab": {
          "base_uri": "https://localhost:8080/",
          "height": 852
        },
        "id": "WuBTZqAM-UWj",
        "outputId": "198998b4-ce2c-4cdc-a1ac-f876a21d4946"
      },
      "execution_count": null,
      "outputs": [
        {
          "output_type": "execute_result",
          "data": {
            "text/plain": [
              "                  ride_id  rideable_type          started_at  \\\n",
              "0        46F8167220E4431F  electric_bike 2021-12-07 15:06:00   \n",
              "1        73A77762838B32FD  electric_bike 2021-12-11 03:43:00   \n",
              "2        4CF42452054F59C5  electric_bike 2021-12-15 23:10:00   \n",
              "3        3278BA87BF698339   classic_bike 2021-12-26 16:16:00   \n",
              "4        6FF54232576A3B73  electric_bike 2021-12-30 11:31:00   \n",
              "...                   ...            ...                 ...   \n",
              "5733446  C349E243A9BAA6F7  electric_bike 2022-11-25 11:19:00   \n",
              "5733447  B0B4E85DA43A9194   classic_bike 2022-11-22 16:57:00   \n",
              "5733448  8D148DD47B59530B   classic_bike 2022-11-06 13:04:00   \n",
              "5733449  0D1170BA18FD33D1   classic_bike 2022-11-06 09:41:00   \n",
              "5733450  09B20DC75B5EA1E0  electric_bike 2022-11-26 11:59:00   \n",
              "\n",
              "                   ended_at ride_length  days_of_week member_casual  \\\n",
              "0       2021-12-07 15:13:00    00:07:35             3        member   \n",
              "1       2021-12-11 04:10:00    00:26:54             7        casual   \n",
              "2       2021-12-15 23:23:00    00:12:46             4        member   \n",
              "3       2021-12-26 16:30:00    00:14:43             1        member   \n",
              "4       2021-12-30 11:51:00    00:20:16             5        member   \n",
              "...                     ...         ...           ...           ...   \n",
              "5733446 2022-11-25 11:31:00    00:11:58             6        member   \n",
              "5733447 2022-11-22 17:31:00    00:33:36             3        casual   \n",
              "5733448 2022-11-06 13:13:00    00:09:28             1        casual   \n",
              "5733449 2022-11-06 15:17:00    05:35:48             1        casual   \n",
              "5733450 2022-11-26 12:31:00    00:31:36             7        casual   \n",
              "\n",
              "                    start_station_name start_station_id  \\\n",
              "0             Laflin St & Cullerton St            13307   \n",
              "1                LaSalle Dr & Huron St     KP1705001026   \n",
              "2         Halsted St & North Branch St     KA1504000117   \n",
              "3         Halsted St & North Branch St     KA1504000117   \n",
              "4             Leavitt St & Chicago Ave            18058   \n",
              "...                                ...              ...   \n",
              "5733446         Wabash Ave & Grand Ave     TA1307000117   \n",
              "5733447     Franklin St & Jackson Blvd     TA1305000025   \n",
              "5733448  Michigan Ave & Ida B Wells Dr     TA1305000010   \n",
              "5733449           Halsted St & 18th St            13099   \n",
              "5733450  Michigan Ave & Ida B Wells Dr     TA1305000010   \n",
              "\n",
              "                       end_station_name end_station_id  start_lat  start_lng  \\\n",
              "0                   Morgan St & Polk St   TA1307000130  41.854833 -87.663660   \n",
              "1            Clarendon Ave & Leland Ave   TA1307000119  41.894405 -87.632331   \n",
              "2                  Broadway & Barry Ave          13137  41.899357 -87.648522   \n",
              "3                 LaSalle Dr & Huron St   KP1705001026  41.899390 -87.648545   \n",
              "4                Clark St & Drummond Pl   TA1307000142  41.895579 -87.682024   \n",
              "...                                 ...            ...        ...        ...   \n",
              "5733446                             NaN            NaN  41.891836 -87.626806   \n",
              "5733447  Sheffield Ave & Wrightwood Ave   TA1309000023  41.877708 -87.635321   \n",
              "5733448                  Shedd Aquarium          15544  41.876243 -87.624426   \n",
              "5733449                  Shedd Aquarium          15544  41.857506 -87.645991   \n",
              "5733450                  Shedd Aquarium          15544  41.876272 -87.624576   \n",
              "\n",
              "           end_lat    end_lng ride-length  \n",
              "0        41.871969 -87.650965         NaN  \n",
              "1        41.967968 -87.650001         NaN  \n",
              "2        41.937582 -87.644098         NaN  \n",
              "3        41.894877 -87.632326         NaN  \n",
              "4        41.931248 -87.644336         NaN  \n",
              "...            ...        ...         ...  \n",
              "5733446  41.890000 -87.620000         NaN  \n",
              "5733447  41.928712 -87.653833         NaN  \n",
              "5733448  41.867226 -87.615355         NaN  \n",
              "5733449  41.867226 -87.615355         NaN  \n",
              "5733450  41.867226 -87.615355         NaN  \n",
              "\n",
              "[5733451 rows x 16 columns]"
            ],
            "text/html": [
              "\n",
              "  <div id=\"df-7981d0a9-b2c3-46c5-8760-fa4ec8adbebc\">\n",
              "    <div class=\"colab-df-container\">\n",
              "      <div>\n",
              "<style scoped>\n",
              "    .dataframe tbody tr th:only-of-type {\n",
              "        vertical-align: middle;\n",
              "    }\n",
              "\n",
              "    .dataframe tbody tr th {\n",
              "        vertical-align: top;\n",
              "    }\n",
              "\n",
              "    .dataframe thead th {\n",
              "        text-align: right;\n",
              "    }\n",
              "</style>\n",
              "<table border=\"1\" class=\"dataframe\">\n",
              "  <thead>\n",
              "    <tr style=\"text-align: right;\">\n",
              "      <th></th>\n",
              "      <th>ride_id</th>\n",
              "      <th>rideable_type</th>\n",
              "      <th>started_at</th>\n",
              "      <th>ended_at</th>\n",
              "      <th>ride_length</th>\n",
              "      <th>days_of_week</th>\n",
              "      <th>member_casual</th>\n",
              "      <th>start_station_name</th>\n",
              "      <th>start_station_id</th>\n",
              "      <th>end_station_name</th>\n",
              "      <th>end_station_id</th>\n",
              "      <th>start_lat</th>\n",
              "      <th>start_lng</th>\n",
              "      <th>end_lat</th>\n",
              "      <th>end_lng</th>\n",
              "      <th>ride-length</th>\n",
              "    </tr>\n",
              "  </thead>\n",
              "  <tbody>\n",
              "    <tr>\n",
              "      <th>0</th>\n",
              "      <td>46F8167220E4431F</td>\n",
              "      <td>electric_bike</td>\n",
              "      <td>2021-12-07 15:06:00</td>\n",
              "      <td>2021-12-07 15:13:00</td>\n",
              "      <td>00:07:35</td>\n",
              "      <td>3</td>\n",
              "      <td>member</td>\n",
              "      <td>Laflin St &amp; Cullerton St</td>\n",
              "      <td>13307</td>\n",
              "      <td>Morgan St &amp; Polk St</td>\n",
              "      <td>TA1307000130</td>\n",
              "      <td>41.854833</td>\n",
              "      <td>-87.663660</td>\n",
              "      <td>41.871969</td>\n",
              "      <td>-87.650965</td>\n",
              "      <td>NaN</td>\n",
              "    </tr>\n",
              "    <tr>\n",
              "      <th>1</th>\n",
              "      <td>73A77762838B32FD</td>\n",
              "      <td>electric_bike</td>\n",
              "      <td>2021-12-11 03:43:00</td>\n",
              "      <td>2021-12-11 04:10:00</td>\n",
              "      <td>00:26:54</td>\n",
              "      <td>7</td>\n",
              "      <td>casual</td>\n",
              "      <td>LaSalle Dr &amp; Huron St</td>\n",
              "      <td>KP1705001026</td>\n",
              "      <td>Clarendon Ave &amp; Leland Ave</td>\n",
              "      <td>TA1307000119</td>\n",
              "      <td>41.894405</td>\n",
              "      <td>-87.632331</td>\n",
              "      <td>41.967968</td>\n",
              "      <td>-87.650001</td>\n",
              "      <td>NaN</td>\n",
              "    </tr>\n",
              "    <tr>\n",
              "      <th>2</th>\n",
              "      <td>4CF42452054F59C5</td>\n",
              "      <td>electric_bike</td>\n",
              "      <td>2021-12-15 23:10:00</td>\n",
              "      <td>2021-12-15 23:23:00</td>\n",
              "      <td>00:12:46</td>\n",
              "      <td>4</td>\n",
              "      <td>member</td>\n",
              "      <td>Halsted St &amp; North Branch St</td>\n",
              "      <td>KA1504000117</td>\n",
              "      <td>Broadway &amp; Barry Ave</td>\n",
              "      <td>13137</td>\n",
              "      <td>41.899357</td>\n",
              "      <td>-87.648522</td>\n",
              "      <td>41.937582</td>\n",
              "      <td>-87.644098</td>\n",
              "      <td>NaN</td>\n",
              "    </tr>\n",
              "    <tr>\n",
              "      <th>3</th>\n",
              "      <td>3278BA87BF698339</td>\n",
              "      <td>classic_bike</td>\n",
              "      <td>2021-12-26 16:16:00</td>\n",
              "      <td>2021-12-26 16:30:00</td>\n",
              "      <td>00:14:43</td>\n",
              "      <td>1</td>\n",
              "      <td>member</td>\n",
              "      <td>Halsted St &amp; North Branch St</td>\n",
              "      <td>KA1504000117</td>\n",
              "      <td>LaSalle Dr &amp; Huron St</td>\n",
              "      <td>KP1705001026</td>\n",
              "      <td>41.899390</td>\n",
              "      <td>-87.648545</td>\n",
              "      <td>41.894877</td>\n",
              "      <td>-87.632326</td>\n",
              "      <td>NaN</td>\n",
              "    </tr>\n",
              "    <tr>\n",
              "      <th>4</th>\n",
              "      <td>6FF54232576A3B73</td>\n",
              "      <td>electric_bike</td>\n",
              "      <td>2021-12-30 11:31:00</td>\n",
              "      <td>2021-12-30 11:51:00</td>\n",
              "      <td>00:20:16</td>\n",
              "      <td>5</td>\n",
              "      <td>member</td>\n",
              "      <td>Leavitt St &amp; Chicago Ave</td>\n",
              "      <td>18058</td>\n",
              "      <td>Clark St &amp; Drummond Pl</td>\n",
              "      <td>TA1307000142</td>\n",
              "      <td>41.895579</td>\n",
              "      <td>-87.682024</td>\n",
              "      <td>41.931248</td>\n",
              "      <td>-87.644336</td>\n",
              "      <td>NaN</td>\n",
              "    </tr>\n",
              "    <tr>\n",
              "      <th>...</th>\n",
              "      <td>...</td>\n",
              "      <td>...</td>\n",
              "      <td>...</td>\n",
              "      <td>...</td>\n",
              "      <td>...</td>\n",
              "      <td>...</td>\n",
              "      <td>...</td>\n",
              "      <td>...</td>\n",
              "      <td>...</td>\n",
              "      <td>...</td>\n",
              "      <td>...</td>\n",
              "      <td>...</td>\n",
              "      <td>...</td>\n",
              "      <td>...</td>\n",
              "      <td>...</td>\n",
              "      <td>...</td>\n",
              "    </tr>\n",
              "    <tr>\n",
              "      <th>5733446</th>\n",
              "      <td>C349E243A9BAA6F7</td>\n",
              "      <td>electric_bike</td>\n",
              "      <td>2022-11-25 11:19:00</td>\n",
              "      <td>2022-11-25 11:31:00</td>\n",
              "      <td>00:11:58</td>\n",
              "      <td>6</td>\n",
              "      <td>member</td>\n",
              "      <td>Wabash Ave &amp; Grand Ave</td>\n",
              "      <td>TA1307000117</td>\n",
              "      <td>NaN</td>\n",
              "      <td>NaN</td>\n",
              "      <td>41.891836</td>\n",
              "      <td>-87.626806</td>\n",
              "      <td>41.890000</td>\n",
              "      <td>-87.620000</td>\n",
              "      <td>NaN</td>\n",
              "    </tr>\n",
              "    <tr>\n",
              "      <th>5733447</th>\n",
              "      <td>B0B4E85DA43A9194</td>\n",
              "      <td>classic_bike</td>\n",
              "      <td>2022-11-22 16:57:00</td>\n",
              "      <td>2022-11-22 17:31:00</td>\n",
              "      <td>00:33:36</td>\n",
              "      <td>3</td>\n",
              "      <td>casual</td>\n",
              "      <td>Franklin St &amp; Jackson Blvd</td>\n",
              "      <td>TA1305000025</td>\n",
              "      <td>Sheffield Ave &amp; Wrightwood Ave</td>\n",
              "      <td>TA1309000023</td>\n",
              "      <td>41.877708</td>\n",
              "      <td>-87.635321</td>\n",
              "      <td>41.928712</td>\n",
              "      <td>-87.653833</td>\n",
              "      <td>NaN</td>\n",
              "    </tr>\n",
              "    <tr>\n",
              "      <th>5733448</th>\n",
              "      <td>8D148DD47B59530B</td>\n",
              "      <td>classic_bike</td>\n",
              "      <td>2022-11-06 13:04:00</td>\n",
              "      <td>2022-11-06 13:13:00</td>\n",
              "      <td>00:09:28</td>\n",
              "      <td>1</td>\n",
              "      <td>casual</td>\n",
              "      <td>Michigan Ave &amp; Ida B Wells Dr</td>\n",
              "      <td>TA1305000010</td>\n",
              "      <td>Shedd Aquarium</td>\n",
              "      <td>15544</td>\n",
              "      <td>41.876243</td>\n",
              "      <td>-87.624426</td>\n",
              "      <td>41.867226</td>\n",
              "      <td>-87.615355</td>\n",
              "      <td>NaN</td>\n",
              "    </tr>\n",
              "    <tr>\n",
              "      <th>5733449</th>\n",
              "      <td>0D1170BA18FD33D1</td>\n",
              "      <td>classic_bike</td>\n",
              "      <td>2022-11-06 09:41:00</td>\n",
              "      <td>2022-11-06 15:17:00</td>\n",
              "      <td>05:35:48</td>\n",
              "      <td>1</td>\n",
              "      <td>casual</td>\n",
              "      <td>Halsted St &amp; 18th St</td>\n",
              "      <td>13099</td>\n",
              "      <td>Shedd Aquarium</td>\n",
              "      <td>15544</td>\n",
              "      <td>41.857506</td>\n",
              "      <td>-87.645991</td>\n",
              "      <td>41.867226</td>\n",
              "      <td>-87.615355</td>\n",
              "      <td>NaN</td>\n",
              "    </tr>\n",
              "    <tr>\n",
              "      <th>5733450</th>\n",
              "      <td>09B20DC75B5EA1E0</td>\n",
              "      <td>electric_bike</td>\n",
              "      <td>2022-11-26 11:59:00</td>\n",
              "      <td>2022-11-26 12:31:00</td>\n",
              "      <td>00:31:36</td>\n",
              "      <td>7</td>\n",
              "      <td>casual</td>\n",
              "      <td>Michigan Ave &amp; Ida B Wells Dr</td>\n",
              "      <td>TA1305000010</td>\n",
              "      <td>Shedd Aquarium</td>\n",
              "      <td>15544</td>\n",
              "      <td>41.876272</td>\n",
              "      <td>-87.624576</td>\n",
              "      <td>41.867226</td>\n",
              "      <td>-87.615355</td>\n",
              "      <td>NaN</td>\n",
              "    </tr>\n",
              "  </tbody>\n",
              "</table>\n",
              "<p>5733451 rows × 16 columns</p>\n",
              "</div>\n",
              "      <button class=\"colab-df-convert\" onclick=\"convertToInteractive('df-7981d0a9-b2c3-46c5-8760-fa4ec8adbebc')\"\n",
              "              title=\"Convert this dataframe to an interactive table.\"\n",
              "              style=\"display:none;\">\n",
              "        \n",
              "  <svg xmlns=\"http://www.w3.org/2000/svg\" height=\"24px\"viewBox=\"0 0 24 24\"\n",
              "       width=\"24px\">\n",
              "    <path d=\"M0 0h24v24H0V0z\" fill=\"none\"/>\n",
              "    <path d=\"M18.56 5.44l.94 2.06.94-2.06 2.06-.94-2.06-.94-.94-2.06-.94 2.06-2.06.94zm-11 1L8.5 8.5l.94-2.06 2.06-.94-2.06-.94L8.5 2.5l-.94 2.06-2.06.94zm10 10l.94 2.06.94-2.06 2.06-.94-2.06-.94-.94-2.06-.94 2.06-2.06.94z\"/><path d=\"M17.41 7.96l-1.37-1.37c-.4-.4-.92-.59-1.43-.59-.52 0-1.04.2-1.43.59L10.3 9.45l-7.72 7.72c-.78.78-.78 2.05 0 2.83L4 21.41c.39.39.9.59 1.41.59.51 0 1.02-.2 1.41-.59l7.78-7.78 2.81-2.81c.8-.78.8-2.07 0-2.86zM5.41 20L4 18.59l7.72-7.72 1.47 1.35L5.41 20z\"/>\n",
              "  </svg>\n",
              "      </button>\n",
              "      \n",
              "  <style>\n",
              "    .colab-df-container {\n",
              "      display:flex;\n",
              "      flex-wrap:wrap;\n",
              "      gap: 12px;\n",
              "    }\n",
              "\n",
              "    .colab-df-convert {\n",
              "      background-color: #E8F0FE;\n",
              "      border: none;\n",
              "      border-radius: 50%;\n",
              "      cursor: pointer;\n",
              "      display: none;\n",
              "      fill: #1967D2;\n",
              "      height: 32px;\n",
              "      padding: 0 0 0 0;\n",
              "      width: 32px;\n",
              "    }\n",
              "\n",
              "    .colab-df-convert:hover {\n",
              "      background-color: #E2EBFA;\n",
              "      box-shadow: 0px 1px 2px rgba(60, 64, 67, 0.3), 0px 1px 3px 1px rgba(60, 64, 67, 0.15);\n",
              "      fill: #174EA6;\n",
              "    }\n",
              "\n",
              "    [theme=dark] .colab-df-convert {\n",
              "      background-color: #3B4455;\n",
              "      fill: #D2E3FC;\n",
              "    }\n",
              "\n",
              "    [theme=dark] .colab-df-convert:hover {\n",
              "      background-color: #434B5C;\n",
              "      box-shadow: 0px 1px 3px 1px rgba(0, 0, 0, 0.15);\n",
              "      filter: drop-shadow(0px 1px 2px rgba(0, 0, 0, 0.3));\n",
              "      fill: #FFFFFF;\n",
              "    }\n",
              "  </style>\n",
              "\n",
              "      <script>\n",
              "        const buttonEl =\n",
              "          document.querySelector('#df-7981d0a9-b2c3-46c5-8760-fa4ec8adbebc button.colab-df-convert');\n",
              "        buttonEl.style.display =\n",
              "          google.colab.kernel.accessAllowed ? 'block' : 'none';\n",
              "\n",
              "        async function convertToInteractive(key) {\n",
              "          const element = document.querySelector('#df-7981d0a9-b2c3-46c5-8760-fa4ec8adbebc');\n",
              "          const dataTable =\n",
              "            await google.colab.kernel.invokeFunction('convertToInteractive',\n",
              "                                                     [key], {});\n",
              "          if (!dataTable) return;\n",
              "\n",
              "          const docLinkHtml = 'Like what you see? Visit the ' +\n",
              "            '<a target=\"_blank\" href=https://colab.research.google.com/notebooks/data_table.ipynb>data table notebook</a>'\n",
              "            + ' to learn more about interactive tables.';\n",
              "          element.innerHTML = '';\n",
              "          dataTable['output_type'] = 'display_data';\n",
              "          await google.colab.output.renderOutput(dataTable, element);\n",
              "          const docLink = document.createElement('div');\n",
              "          docLink.innerHTML = docLinkHtml;\n",
              "          element.appendChild(docLink);\n",
              "        }\n",
              "      </script>\n",
              "    </div>\n",
              "  </div>\n",
              "  "
            ]
          },
          "metadata": {},
          "execution_count": 10
        }
      ]
    },
    {
      "cell_type": "code",
      "source": [],
      "metadata": {
        "id": "q5jOUrlObo8E"
      },
      "execution_count": null,
      "outputs": []
    },
    {
      "cell_type": "markdown",
      "source": [
        "Firstly, knowing the total casual and member uses the bikes of the company. "
      ],
      "metadata": {
        "id": "x0uRDUTWbpe_"
      }
    },
    {
      "cell_type": "code",
      "source": [
        "dfss['member_casual'].value_counts(ascending=True)"
      ],
      "metadata": {
        "colab": {
          "base_uri": "https://localhost:8080/"
        },
        "id": "ozYnpCrtfqJJ",
        "outputId": "20d7916a-6205-45f7-ce8a-d88f1ba06952"
      },
      "execution_count": null,
      "outputs": [
        {
          "output_type": "execute_result",
          "data": {
            "text/plain": [
              "casual    2346876\n",
              "member    3386575\n",
              "Name: member_casual, dtype: int64"
            ]
          },
          "metadata": {},
          "execution_count": 11
        }
      ]
    },
    {
      "cell_type": "code",
      "source": [
        "data_piess= dfss['member_casual'].value_counts().rename_axis('member_casual').reset_index(name='member_casual_count')\n"
      ],
      "metadata": {
        "id": "-kP-ObLKfqFz"
      },
      "execution_count": null,
      "outputs": []
    },
    {
      "cell_type": "code",
      "source": [
        "import matplotlib.pyplot as plt\n",
        "import numpy as np"
      ],
      "metadata": {
        "id": "eA_i02xCgKNK"
      },
      "execution_count": null,
      "outputs": []
    },
    {
      "cell_type": "code",
      "source": [
        "plt.figure(figsize=(5,5))\n",
        "plt.pie(data_piess.member_casual_count, labels=data_piess.member_casual, startangle=90, autopct= '%.1f%%')\n",
        "plt.title('Percentage of types of riders')\n",
        "plt.show()"
      ],
      "metadata": {
        "colab": {
          "base_uri": "https://localhost:8080/",
          "height": 319
        },
        "id": "uRq3JVXsfqDN",
        "outputId": "25220567-c92a-4430-84e9-ee39352f7d3e"
      },
      "execution_count": null,
      "outputs": [
        {
          "output_type": "display_data",
          "data": {
            "text/plain": [
              "<Figure size 360x360 with 1 Axes>"
            ],
            "image/png": "[encoded data removed]"
          },
          "metadata": {}
        }
      ]
    },
    {
      "cell_type": "markdown",
      "source": [
        "This above Pie chart explains that the casual are less compared to the Members\n",
        "\n",
        "**[Member > Casual]**"
      ],
      "metadata": {
        "id": "ABvSkeLgb8y_"
      }
    },
    {
      "cell_type": "code",
      "source": [],
      "metadata": {
        "id": "-KK6b0L6fowL"
      },
      "execution_count": null,
      "outputs": []
    },
    {
      "cell_type": "code",
      "source": [
        "dfssg2= pd.crosstab(dfss.days_of_week,dfss.rideable_type, values= dfss.rideable_type , aggfunc = 'count')\n",
        "dfssg2"
      ],
      "metadata": {
        "colab": {
          "base_uri": "https://localhost:8080/",
          "height": 300
        },
        "id": "ciwdMJVgfqA0",
        "outputId": "5cc2a46a-58a4-4454-faba-6942d23e2d1f"
      },
      "execution_count": null,
      "outputs": [
        {
          "output_type": "execute_result",
          "data": {
            "text/plain": [
              "rideable_type  classic_bike  docked_bike  electric_bike\n",
              "days_of_week                                           \n",
              "1                    362408        36197         384027\n",
              "2                    354437        22909         380061\n",
              "3                    365165        17866         399702\n",
              "4                    372655        17780         426690\n",
              "5                    386091        20193         447802\n",
              "6                    360901        23942         432564\n",
              "7                    426842        41590         453629"
            ],
            "text/html": [
              "\n",
              "  <div id=\"df-f3d44d8d-d094-449d-bf78-08ea90e4458c\">\n",
              "    <div class=\"colab-df-container\">\n",
              "      <div>\n",
              "<style scoped>\n",
              "    .dataframe tbody tr th:only-of-type {\n",
              "        vertical-align: middle;\n",
              "    }\n",
              "\n",
              "    .dataframe tbody tr th {\n",
              "        vertical-align: top;\n",
              "    }\n",
              "\n",
              "    .dataframe thead th {\n",
              "        text-align: right;\n",
              "    }\n",
              "</style>\n",
              "<table border=\"1\" class=\"dataframe\">\n",
              "  <thead>\n",
              "    <tr style=\"text-align: right;\">\n",
              "      <th>rideable_type</th>\n",
              "      <th>classic_bike</th>\n",
              "      <th>docked_bike</th>\n",
              "      <th>electric_bike</th>\n",
              "    </tr>\n",
              "    <tr>\n",
              "      <th>days_of_week</th>\n",
              "      <th></th>\n",
              "      <th></th>\n",
              "      <th></th>\n",
              "    </tr>\n",
              "  </thead>\n",
              "  <tbody>\n",
              "    <tr>\n",
              "      <th>1</th>\n",
              "      <td>362408</td>\n",
              "      <td>36197</td>\n",
              "      <td>384027</td>\n",
              "    </tr>\n",
              "    <tr>\n",
              "      <th>2</th>\n",
              "      <td>354437</td>\n",
              "      <td>22909</td>\n",
              "      <td>380061</td>\n",
              "    </tr>\n",
              "    <tr>\n",
              "      <th>3</th>\n",
              "      <td>365165</td>\n",
              "      <td>17866</td>\n",
              "      <td>399702</td>\n",
              "    </tr>\n",
              "    <tr>\n",
              "      <th>4</th>\n",
              "      <td>372655</td>\n",
              "      <td>17780</td>\n",
              "      <td>426690</td>\n",
              "    </tr>\n",
              "    <tr>\n",
              "      <th>5</th>\n",
              "      <td>386091</td>\n",
              "      <td>20193</td>\n",
              "      <td>447802</td>\n",
              "    </tr>\n",
              "    <tr>\n",
              "      <th>6</th>\n",
              "      <td>360901</td>\n",
              "      <td>23942</td>\n",
              "      <td>432564</td>\n",
              "    </tr>\n",
              "    <tr>\n",
              "      <th>7</th>\n",
              "      <td>426842</td>\n",
              "      <td>41590</td>\n",
              "      <td>453629</td>\n",
              "    </tr>\n",
              "  </tbody>\n",
              "</table>\n",
              "</div>\n",
              "      <button class=\"colab-df-convert\" onclick=\"convertToInteractive('df-f3d44d8d-d094-449d-bf78-08ea90e4458c')\"\n",
              "              title=\"Convert this dataframe to an interactive table.\"\n",
              "              style=\"display:none;\">\n",
              "        \n",
              "  <svg xmlns=\"http://www.w3.org/2000/svg\" height=\"24px\"viewBox=\"0 0 24 24\"\n",
              "       width=\"24px\">\n",
              "    <path d=\"M0 0h24v24H0V0z\" fill=\"none\"/>\n",
              "    <path d=\"M18.56 5.44l.94 2.06.94-2.06 2.06-.94-2.06-.94-.94-2.06-.94 2.06-2.06.94zm-11 1L8.5 8.5l.94-2.06 2.06-.94-2.06-.94L8.5 2.5l-.94 2.06-2.06.94zm10 10l.94 2.06.94-2.06 2.06-.94-2.06-.94-.94-2.06-.94 2.06-2.06.94z\"/><path d=\"M17.41 7.96l-1.37-1.37c-.4-.4-.92-.59-1.43-.59-.52 0-1.04.2-1.43.59L10.3 9.45l-7.72 7.72c-.78.78-.78 2.05 0 2.83L4 21.41c.39.39.9.59 1.41.59.51 0 1.02-.2 1.41-.59l7.78-7.78 2.81-2.81c.8-.78.8-2.07 0-2.86zM5.41 20L4 18.59l7.72-7.72 1.47 1.35L5.41 20z\"/>\n",
              "  </svg>\n",
              "      </button>\n",
              "      \n",
              "  <style>\n",
              "    .colab-df-container {\n",
              "      display:flex;\n",
              "      flex-wrap:wrap;\n",
              "      gap: 12px;\n",
              "    }\n",
              "\n",
              "    .colab-df-convert {\n",
              "      background-color: #E8F0FE;\n",
              "      border: none;\n",
              "      border-radius: 50%;\n",
              "      cursor: pointer;\n",
              "      display: none;\n",
              "      fill: #1967D2;\n",
              "      height: 32px;\n",
              "      padding: 0 0 0 0;\n",
              "      width: 32px;\n",
              "    }\n",
              "\n",
              "    .colab-df-convert:hover {\n",
              "      background-color: #E2EBFA;\n",
              "      box-shadow: 0px 1px 2px rgba(60, 64, 67, 0.3), 0px 1px 3px 1px rgba(60, 64, 67, 0.15);\n",
              "      fill: #174EA6;\n",
              "    }\n",
              "\n",
              "    [theme=dark] .colab-df-convert {\n",
              "      background-color: #3B4455;\n",
              "      fill: #D2E3FC;\n",
              "    }\n",
              "\n",
              "    [theme=dark] .colab-df-convert:hover {\n",
              "      background-color: #434B5C;\n",
              "      box-shadow: 0px 1px 3px 1px rgba(0, 0, 0, 0.15);\n",
              "      filter: drop-shadow(0px 1px 2px rgba(0, 0, 0, 0.3));\n",
              "      fill: #FFFFFF;\n",
              "    }\n",
              "  </style>\n",
              "\n",
              "      <script>\n",
              "        const buttonEl =\n",
              "          document.querySelector('#df-f3d44d8d-d094-449d-bf78-08ea90e4458c button.colab-df-convert');\n",
              "        buttonEl.style.display =\n",
              "          google.colab.kernel.accessAllowed ? 'block' : 'none';\n",
              "\n",
              "        async function convertToInteractive(key) {\n",
              "          const element = document.querySelector('#df-f3d44d8d-d094-449d-bf78-08ea90e4458c');\n",
              "          const dataTable =\n",
              "            await google.colab.kernel.invokeFunction('convertToInteractive',\n",
              "                                                     [key], {});\n",
              "          if (!dataTable) return;\n",
              "\n",
              "          const docLinkHtml = 'Like what you see? Visit the ' +\n",
              "            '<a target=\"_blank\" href=https://colab.research.google.com/notebooks/data_table.ipynb>data table notebook</a>'\n",
              "            + ' to learn more about interactive tables.';\n",
              "          element.innerHTML = '';\n",
              "          dataTable['output_type'] = 'display_data';\n",
              "          await google.colab.output.renderOutput(dataTable, element);\n",
              "          const docLink = document.createElement('div');\n",
              "          docLink.innerHTML = docLinkHtml;\n",
              "          element.appendChild(docLink);\n",
              "        }\n",
              "      </script>\n",
              "    </div>\n",
              "  </div>\n",
              "  "
            ]
          },
          "metadata": {},
          "execution_count": 15
        }
      ]
    },
    {
      "cell_type": "code",
      "source": [
        "dfssg2.plot.line(ylim=(0,800000),yticks=np.arange(0,800000,100000))"
      ],
      "metadata": {
        "colab": {
          "base_uri": "https://localhost:8080/",
          "height": 298
        },
        "id": "9aoNGqIufp96",
        "outputId": "8fe55653-5729-4936-8632-f42fa97d682c"
      },
      "execution_count": null,
      "outputs": [
        {
          "output_type": "execute_result",
          "data": {
            "text/plain": [
              "<matplotlib.axes._subplots.AxesSubplot at 0x7f9913bc0af0>"
            ]
          },
          "metadata": {},
          "execution_count": 16
        },
        {
          "output_type": "display_data",
          "data": {
            "text/plain": [
              "<Figure size 432x288 with 1 Axes>"
            ],
            "image/png": "[encoded data removed]"
          },
          "metadata": {
            "needs_background": "light"
          }
        }
      ]
    },
    {
      "cell_type": "markdown",
      "source": [
        "### ***dfssg2 graph***\n",
        "\n",
        "-The usage of docked bike is less compare to other bikes\n",
        "\n",
        "-on saturday the usage of electric and classic bike is dropped while the docked bike usage increased\n",
        "\n",
        "-On Sunday, there is sudden rise of demand in electric bike including other two as well"
      ],
      "metadata": {
        "id": "ShbzVvsefs9c"
      }
    },
    {
      "cell_type": "code",
      "source": [],
      "metadata": {
        "id": "VvHSpKJUfsnU"
      },
      "execution_count": null,
      "outputs": []
    },
    {
      "cell_type": "code",
      "source": [],
      "metadata": {
        "id": "azw6PkSPhQqH"
      },
      "execution_count": null,
      "outputs": []
    },
    {
      "cell_type": "code",
      "source": [
        "dfssg3= pd.crosstab(dfss.member_casual,dfss.rideable_type, values= dfss.rideable_type , aggfunc = 'count')\n",
        "dfssg3"
      ],
      "metadata": {
        "colab": {
          "base_uri": "https://localhost:8080/",
          "height": 143
        },
        "id": "1SHu1LI9fp7U",
        "outputId": "cc7e2cbc-28fd-4994-d5f8-c1a75be502cb"
      },
      "execution_count": null,
      "outputs": [
        {
          "output_type": "execute_result",
          "data": {
            "text/plain": [
              "rideable_type  classic_bike  docked_bike  electric_bike\n",
              "member_casual                                          \n",
              "casual             898613.0     180477.0      1267786.0\n",
              "member            1729886.0          NaN      1656689.0"
            ],
            "text/html": [
              "\n",
              "  <div id=\"df-fc0a1242-26d5-4c10-878b-c43c4d88cf45\">\n",
              "    <div class=\"colab-df-container\">\n",
              "      <div>\n",
              "<style scoped>\n",
              "    .dataframe tbody tr th:only-of-type {\n",
              "        vertical-align: middle;\n",
              "    }\n",
              "\n",
              "    .dataframe tbody tr th {\n",
              "        vertical-align: top;\n",
              "    }\n",
              "\n",
              "    .dataframe thead th {\n",
              "        text-align: right;\n",
              "    }\n",
              "</style>\n",
              "<table border=\"1\" class=\"dataframe\">\n",
              "  <thead>\n",
              "    <tr style=\"text-align: right;\">\n",
              "      <th>rideable_type</th>\n",
              "      <th>classic_bike</th>\n",
              "      <th>docked_bike</th>\n",
              "      <th>electric_bike</th>\n",
              "    </tr>\n",
              "    <tr>\n",
              "      <th>member_casual</th>\n",
              "      <th></th>\n",
              "      <th></th>\n",
              "      <th></th>\n",
              "    </tr>\n",
              "  </thead>\n",
              "  <tbody>\n",
              "    <tr>\n",
              "      <th>casual</th>\n",
              "      <td>898613.0</td>\n",
              "      <td>180477.0</td>\n",
              "      <td>1267786.0</td>\n",
              "    </tr>\n",
              "    <tr>\n",
              "      <th>member</th>\n",
              "      <td>1729886.0</td>\n",
              "      <td>NaN</td>\n",
              "      <td>1656689.0</td>\n",
              "    </tr>\n",
              "  </tbody>\n",
              "</table>\n",
              "</div>\n",
              "      <button class=\"colab-df-convert\" onclick=\"convertToInteractive('df-fc0a1242-26d5-4c10-878b-c43c4d88cf45')\"\n",
              "              title=\"Convert this dataframe to an interactive table.\"\n",
              "              style=\"display:none;\">\n",
              "        \n",
              "  <svg xmlns=\"http://www.w3.org/2000/svg\" height=\"24px\"viewBox=\"0 0 24 24\"\n",
              "       width=\"24px\">\n",
              "    <path d=\"M0 0h24v24H0V0z\" fill=\"none\"/>\n",
              "    <path d=\"M18.56 5.44l.94 2.06.94-2.06 2.06-.94-2.06-.94-.94-2.06-.94 2.06-2.06.94zm-11 1L8.5 8.5l.94-2.06 2.06-.94-2.06-.94L8.5 2.5l-.94 2.06-2.06.94zm10 10l.94 2.06.94-2.06 2.06-.94-2.06-.94-.94-2.06-.94 2.06-2.06.94z\"/><path d=\"M17.41 7.96l-1.37-1.37c-.4-.4-.92-.59-1.43-.59-.52 0-1.04.2-1.43.59L10.3 9.45l-7.72 7.72c-.78.78-.78 2.05 0 2.83L4 21.41c.39.39.9.59 1.41.59.51 0 1.02-.2 1.41-.59l7.78-7.78 2.81-2.81c.8-.78.8-2.07 0-2.86zM5.41 20L4 18.59l7.72-7.72 1.47 1.35L5.41 20z\"/>\n",
              "  </svg>\n",
              "      </button>\n",
              "      \n",
              "  <style>\n",
              "    .colab-df-container {\n",
              "      display:flex;\n",
              "      flex-wrap:wrap;\n",
              "      gap: 12px;\n",
              "    }\n",
              "\n",
              "    .colab-df-convert {\n",
              "      background-color: #E8F0FE;\n",
              "      border: none;\n",
              "      border-radius: 50%;\n",
              "      cursor: pointer;\n",
              "      display: none;\n",
              "      fill: #1967D2;\n",
              "      height: 32px;\n",
              "      padding: 0 0 0 0;\n",
              "      width: 32px;\n",
              "    }\n",
              "\n",
              "    .colab-df-convert:hover {\n",
              "      background-color: #E2EBFA;\n",
              "      box-shadow: 0px 1px 2px rgba(60, 64, 67, 0.3), 0px 1px 3px 1px rgba(60, 64, 67, 0.15);\n",
              "      fill: #174EA6;\n",
              "    }\n",
              "\n",
              "    [theme=dark] .colab-df-convert {\n",
              "      background-color: #3B4455;\n",
              "      fill: #D2E3FC;\n",
              "    }\n",
              "\n",
              "    [theme=dark] .colab-df-convert:hover {\n",
              "      background-color: #434B5C;\n",
              "      box-shadow: 0px 1px 3px 1px rgba(0, 0, 0, 0.15);\n",
              "      filter: drop-shadow(0px 1px 2px rgba(0, 0, 0, 0.3));\n",
              "      fill: #FFFFFF;\n",
              "    }\n",
              "  </style>\n",
              "\n",
              "      <script>\n",
              "        const buttonEl =\n",
              "          document.querySelector('#df-fc0a1242-26d5-4c10-878b-c43c4d88cf45 button.colab-df-convert');\n",
              "        buttonEl.style.display =\n",
              "          google.colab.kernel.accessAllowed ? 'block' : 'none';\n",
              "\n",
              "        async function convertToInteractive(key) {\n",
              "          const element = document.querySelector('#df-fc0a1242-26d5-4c10-878b-c43c4d88cf45');\n",
              "          const dataTable =\n",
              "            await google.colab.kernel.invokeFunction('convertToInteractive',\n",
              "                                                     [key], {});\n",
              "          if (!dataTable) return;\n",
              "\n",
              "          const docLinkHtml = 'Like what you see? Visit the ' +\n",
              "            '<a target=\"_blank\" href=https://colab.research.google.com/notebooks/data_table.ipynb>data table notebook</a>'\n",
              "            + ' to learn more about interactive tables.';\n",
              "          element.innerHTML = '';\n",
              "          dataTable['output_type'] = 'display_data';\n",
              "          await google.colab.output.renderOutput(dataTable, element);\n",
              "          const docLink = document.createElement('div');\n",
              "          docLink.innerHTML = docLinkHtml;\n",
              "          element.appendChild(docLink);\n",
              "        }\n",
              "      </script>\n",
              "    </div>\n",
              "  </div>\n",
              "  "
            ]
          },
          "metadata": {},
          "execution_count": 17
        }
      ]
    },
    {
      "cell_type": "code",
      "source": [
        "dfssg3.plot.bar()"
      ],
      "metadata": {
        "colab": {
          "base_uri": "https://localhost:8080/",
          "height": 341
        },
        "id": "EoNg2rvUfp4u",
        "outputId": "0c17cd53-5ce0-49b1-ea2f-34918364fca8"
      },
      "execution_count": null,
      "outputs": [
        {
          "output_type": "execute_result",
          "data": {
            "text/plain": [
              "<matplotlib.axes._subplots.AxesSubplot at 0x7f991bb676a0>"
            ]
          },
          "metadata": {},
          "execution_count": 18
        },
        {
          "output_type": "display_data",
          "data": {
            "text/plain": [
              "<Figure size 432x288 with 1 Axes>"
            ],
            "image/png": "[encoded data removed]"
          },
          "metadata": {
            "needs_background": "light"
          }
        }
      ]
    },
    {
      "cell_type": "markdown",
      "source": [
        "### ***dfssg3 graph***\n",
        "\n",
        "-This graph shows that not a single 'member' has used the docked bike\n",
        "\n",
        "-Maybe from the station, member picked the bike - there is no availibilty of docked bike leading to not to use that bike."
      ],
      "metadata": {
        "id": "3WCMY2H2hUJB"
      }
    },
    {
      "cell_type": "code",
      "source": [],
      "metadata": {
        "id": "K3n4vTpLhVTf"
      },
      "execution_count": null,
      "outputs": []
    },
    {
      "cell_type": "code",
      "source": [],
      "metadata": {
        "id": "sAR1a8PQhUuh"
      },
      "execution_count": null,
      "outputs": []
    },
    {
      "cell_type": "code",
      "source": [
        "dfssg4= pd.crosstab( dfss.days_of_week, dfss.member_casual,values= dfss.rideable_type , aggfunc = 'count')\n",
        "dfssg4"
      ],
      "metadata": {
        "colab": {
          "base_uri": "https://localhost:8080/",
          "height": 300
        },
        "id": "Ilx6iO5hfp2l",
        "outputId": "3aa8b75d-0419-4535-a370-dae1fb04efcb"
      },
      "execution_count": null,
      "outputs": [
        {
          "output_type": "execute_result",
          "data": {
            "text/plain": [
              "member_casual  casual  member\n",
              "days_of_week                 \n",
              "1              392130  390502\n",
              "2              280472  476935\n",
              "3              264068  518665\n",
              "4              279380  537745\n",
              "5              313739  540347\n",
              "6              340499  476908\n",
              "7              476588  445473"
            ],
            "text/html": [
              "\n",
              "  <div id=\"df-dfce29ad-bc3c-4115-8bc0-725c597fd131\">\n",
              "    <div class=\"colab-df-container\">\n",
              "      <div>\n",
              "<style scoped>\n",
              "    .dataframe tbody tr th:only-of-type {\n",
              "        vertical-align: middle;\n",
              "    }\n",
              "\n",
              "    .dataframe tbody tr th {\n",
              "        vertical-align: top;\n",
              "    }\n",
              "\n",
              "    .dataframe thead th {\n",
              "        text-align: right;\n",
              "    }\n",
              "</style>\n",
              "<table border=\"1\" class=\"dataframe\">\n",
              "  <thead>\n",
              "    <tr style=\"text-align: right;\">\n",
              "      <th>member_casual</th>\n",
              "      <th>casual</th>\n",
              "      <th>member</th>\n",
              "    </tr>\n",
              "    <tr>\n",
              "      <th>days_of_week</th>\n",
              "      <th></th>\n",
              "      <th></th>\n",
              "    </tr>\n",
              "  </thead>\n",
              "  <tbody>\n",
              "    <tr>\n",
              "      <th>1</th>\n",
              "      <td>392130</td>\n",
              "      <td>390502</td>\n",
              "    </tr>\n",
              "    <tr>\n",
              "      <th>2</th>\n",
              "      <td>280472</td>\n",
              "      <td>476935</td>\n",
              "    </tr>\n",
              "    <tr>\n",
              "      <th>3</th>\n",
              "      <td>264068</td>\n",
              "      <td>518665</td>\n",
              "    </tr>\n",
              "    <tr>\n",
              "      <th>4</th>\n",
              "      <td>279380</td>\n",
              "      <td>537745</td>\n",
              "    </tr>\n",
              "    <tr>\n",
              "      <th>5</th>\n",
              "      <td>313739</td>\n",
              "      <td>540347</td>\n",
              "    </tr>\n",
              "    <tr>\n",
              "      <th>6</th>\n",
              "      <td>340499</td>\n",
              "      <td>476908</td>\n",
              "    </tr>\n",
              "    <tr>\n",
              "      <th>7</th>\n",
              "      <td>476588</td>\n",
              "      <td>445473</td>\n",
              "    </tr>\n",
              "  </tbody>\n",
              "</table>\n",
              "</div>\n",
              "      <button class=\"colab-df-convert\" onclick=\"convertToInteractive('df-dfce29ad-bc3c-4115-8bc0-725c597fd131')\"\n",
              "              title=\"Convert this dataframe to an interactive table.\"\n",
              "              style=\"display:none;\">\n",
              "        \n",
              "  <svg xmlns=\"http://www.w3.org/2000/svg\" height=\"24px\"viewBox=\"0 0 24 24\"\n",
              "       width=\"24px\">\n",
              "    <path d=\"M0 0h24v24H0V0z\" fill=\"none\"/>\n",
              "    <path d=\"M18.56 5.44l.94 2.06.94-2.06 2.06-.94-2.06-.94-.94-2.06-.94 2.06-2.06.94zm-11 1L8.5 8.5l.94-2.06 2.06-.94-2.06-.94L8.5 2.5l-.94 2.06-2.06.94zm10 10l.94 2.06.94-2.06 2.06-.94-2.06-.94-.94-2.06-.94 2.06-2.06.94z\"/><path d=\"M17.41 7.96l-1.37-1.37c-.4-.4-.92-.59-1.43-.59-.52 0-1.04.2-1.43.59L10.3 9.45l-7.72 7.72c-.78.78-.78 2.05 0 2.83L4 21.41c.39.39.9.59 1.41.59.51 0 1.02-.2 1.41-.59l7.78-7.78 2.81-2.81c.8-.78.8-2.07 0-2.86zM5.41 20L4 18.59l7.72-7.72 1.47 1.35L5.41 20z\"/>\n",
              "  </svg>\n",
              "      </button>\n",
              "      \n",
              "  <style>\n",
              "    .colab-df-container {\n",
              "      display:flex;\n",
              "      flex-wrap:wrap;\n",
              "      gap: 12px;\n",
              "    }\n",
              "\n",
              "    .colab-df-convert {\n",
              "      background-color: #E8F0FE;\n",
              "      border: none;\n",
              "      border-radius: 50%;\n",
              "      cursor: pointer;\n",
              "      display: none;\n",
              "      fill: #1967D2;\n",
              "      height: 32px;\n",
              "      padding: 0 0 0 0;\n",
              "      width: 32px;\n",
              "    }\n",
              "\n",
              "    .colab-df-convert:hover {\n",
              "      background-color: #E2EBFA;\n",
              "      box-shadow: 0px 1px 2px rgba(60, 64, 67, 0.3), 0px 1px 3px 1px rgba(60, 64, 67, 0.15);\n",
              "      fill: #174EA6;\n",
              "    }\n",
              "\n",
              "    [theme=dark] .colab-df-convert {\n",
              "      background-color: #3B4455;\n",
              "      fill: #D2E3FC;\n",
              "    }\n",
              "\n",
              "    [theme=dark] .colab-df-convert:hover {\n",
              "      background-color: #434B5C;\n",
              "      box-shadow: 0px 1px 3px 1px rgba(0, 0, 0, 0.15);\n",
              "      filter: drop-shadow(0px 1px 2px rgba(0, 0, 0, 0.3));\n",
              "      fill: #FFFFFF;\n",
              "    }\n",
              "  </style>\n",
              "\n",
              "      <script>\n",
              "        const buttonEl =\n",
              "          document.querySelector('#df-dfce29ad-bc3c-4115-8bc0-725c597fd131 button.colab-df-convert');\n",
              "        buttonEl.style.display =\n",
              "          google.colab.kernel.accessAllowed ? 'block' : 'none';\n",
              "\n",
              "        async function convertToInteractive(key) {\n",
              "          const element = document.querySelector('#df-dfce29ad-bc3c-4115-8bc0-725c597fd131');\n",
              "          const dataTable =\n",
              "            await google.colab.kernel.invokeFunction('convertToInteractive',\n",
              "                                                     [key], {});\n",
              "          if (!dataTable) return;\n",
              "\n",
              "          const docLinkHtml = 'Like what you see? Visit the ' +\n",
              "            '<a target=\"_blank\" href=https://colab.research.google.com/notebooks/data_table.ipynb>data table notebook</a>'\n",
              "            + ' to learn more about interactive tables.';\n",
              "          element.innerHTML = '';\n",
              "          dataTable['output_type'] = 'display_data';\n",
              "          await google.colab.output.renderOutput(dataTable, element);\n",
              "          const docLink = document.createElement('div');\n",
              "          docLink.innerHTML = docLinkHtml;\n",
              "          element.appendChild(docLink);\n",
              "        }\n",
              "      </script>\n",
              "    </div>\n",
              "  </div>\n",
              "  "
            ]
          },
          "metadata": {},
          "execution_count": 19
        }
      ]
    },
    {
      "cell_type": "code",
      "source": [
        "dfssg4.plot.bar()"
      ],
      "metadata": {
        "colab": {
          "base_uri": "https://localhost:8080/",
          "height": 295
        },
        "id": "Sl-Q0mMAfp0K",
        "outputId": "413e0007-3bd4-4ef4-ee53-c988910f6794"
      },
      "execution_count": null,
      "outputs": [
        {
          "output_type": "execute_result",
          "data": {
            "text/plain": [
              "<matplotlib.axes._subplots.AxesSubplot at 0x7f993d08dbe0>"
            ]
          },
          "metadata": {},
          "execution_count": 20
        },
        {
          "output_type": "display_data",
          "data": {
            "text/plain": [
              "<Figure size 432x288 with 1 Axes>"
            ],
            "image/png": "[encoded data removed]"
          },
          "metadata": {
            "needs_background": "light"
          }
        }
      ]
    },
    {
      "cell_type": "markdown",
      "source": [
        "### ***dfssg4 graph***\n",
        "\n",
        "- We can see the increase of casual riders on Monday and Sunday compare to members\n",
        "\n",
        "- And during rest of the days there is decrease of casual riders compare to member\n",
        "\n",
        "- Member on wednesday, Thursday, Friday are in high quantity compare to other days"
      ],
      "metadata": {
        "id": "GNOUXij8iah6"
      }
    },
    {
      "cell_type": "code",
      "source": [],
      "metadata": {
        "id": "Vbttgr7YiaMl"
      },
      "execution_count": null,
      "outputs": []
    },
    {
      "cell_type": "code",
      "source": [],
      "metadata": {
        "id": "tisTBln-iZ7Z"
      },
      "execution_count": null,
      "outputs": []
    },
    {
      "cell_type": "markdown",
      "source": [
        "Getting the difference of ended_at and started_at time to know the ride length of each rider"
      ],
      "metadata": {
        "id": "wKdHd0R_pftK"
      }
    },
    {
      "cell_type": "code",
      "source": [
        "dfss['duration'] = dfss['ended_at'] - dfss['started_at']\n",
        "dfss"
      ],
      "metadata": {
        "colab": {
          "base_uri": "https://localhost:8080/",
          "height": 852
        },
        "id": "DVAjmJSu-cpO",
        "outputId": "434d64bd-d3b0-4655-a3b7-02e63f161300"
      },
      "execution_count": null,
      "outputs": [
        {
          "output_type": "execute_result",
          "data": {
            "text/plain": [
              "                  ride_id  rideable_type          started_at  \\\n",
              "0        46F8167220E4431F  electric_bike 2021-12-07 15:06:00   \n",
              "1        73A77762838B32FD  electric_bike 2021-12-11 03:43:00   \n",
              "2        4CF42452054F59C5  electric_bike 2021-12-15 23:10:00   \n",
              "3        3278BA87BF698339   classic_bike 2021-12-26 16:16:00   \n",
              "4        6FF54232576A3B73  electric_bike 2021-12-30 11:31:00   \n",
              "...                   ...            ...                 ...   \n",
              "5733446  C349E243A9BAA6F7  electric_bike 2022-11-25 11:19:00   \n",
              "5733447  B0B4E85DA43A9194   classic_bike 2022-11-22 16:57:00   \n",
              "5733448  8D148DD47B59530B   classic_bike 2022-11-06 13:04:00   \n",
              "5733449  0D1170BA18FD33D1   classic_bike 2022-11-06 09:41:00   \n",
              "5733450  09B20DC75B5EA1E0  electric_bike 2022-11-26 11:59:00   \n",
              "\n",
              "                   ended_at ride_length  days_of_week member_casual  \\\n",
              "0       2021-12-07 15:13:00    00:07:35             3        member   \n",
              "1       2021-12-11 04:10:00    00:26:54             7        casual   \n",
              "2       2021-12-15 23:23:00    00:12:46             4        member   \n",
              "3       2021-12-26 16:30:00    00:14:43             1        member   \n",
              "4       2021-12-30 11:51:00    00:20:16             5        member   \n",
              "...                     ...         ...           ...           ...   \n",
              "5733446 2022-11-25 11:31:00    00:11:58             6        member   \n",
              "5733447 2022-11-22 17:31:00    00:33:36             3        casual   \n",
              "5733448 2022-11-06 13:13:00    00:09:28             1        casual   \n",
              "5733449 2022-11-06 15:17:00    05:35:48             1        casual   \n",
              "5733450 2022-11-26 12:31:00    00:31:36             7        casual   \n",
              "\n",
              "                    start_station_name start_station_id  \\\n",
              "0             Laflin St & Cullerton St            13307   \n",
              "1                LaSalle Dr & Huron St     KP1705001026   \n",
              "2         Halsted St & North Branch St     KA1504000117   \n",
              "3         Halsted St & North Branch St     KA1504000117   \n",
              "4             Leavitt St & Chicago Ave            18058   \n",
              "...                                ...              ...   \n",
              "5733446         Wabash Ave & Grand Ave     TA1307000117   \n",
              "5733447     Franklin St & Jackson Blvd     TA1305000025   \n",
              "5733448  Michigan Ave & Ida B Wells Dr     TA1305000010   \n",
              "5733449           Halsted St & 18th St            13099   \n",
              "5733450  Michigan Ave & Ida B Wells Dr     TA1305000010   \n",
              "\n",
              "                       end_station_name end_station_id  start_lat  start_lng  \\\n",
              "0                   Morgan St & Polk St   TA1307000130  41.854833 -87.663660   \n",
              "1            Clarendon Ave & Leland Ave   TA1307000119  41.894405 -87.632331   \n",
              "2                  Broadway & Barry Ave          13137  41.899357 -87.648522   \n",
              "3                 LaSalle Dr & Huron St   KP1705001026  41.899390 -87.648545   \n",
              "4                Clark St & Drummond Pl   TA1307000142  41.895579 -87.682024   \n",
              "...                                 ...            ...        ...        ...   \n",
              "5733446                             NaN            NaN  41.891836 -87.626806   \n",
              "5733447  Sheffield Ave & Wrightwood Ave   TA1309000023  41.877708 -87.635321   \n",
              "5733448                  Shedd Aquarium          15544  41.876243 -87.624426   \n",
              "5733449                  Shedd Aquarium          15544  41.857506 -87.645991   \n",
              "5733450                  Shedd Aquarium          15544  41.876272 -87.624576   \n",
              "\n",
              "           end_lat    end_lng ride-length        duration  \n",
              "0        41.871969 -87.650965         NaN 0 days 00:07:00  \n",
              "1        41.967968 -87.650001         NaN 0 days 00:27:00  \n",
              "2        41.937582 -87.644098         NaN 0 days 00:13:00  \n",
              "3        41.894877 -87.632326         NaN 0 days 00:14:00  \n",
              "4        41.931248 -87.644336         NaN 0 days 00:20:00  \n",
              "...            ...        ...         ...             ...  \n",
              "5733446  41.890000 -87.620000         NaN 0 days 00:12:00  \n",
              "5733447  41.928712 -87.653833         NaN 0 days 00:34:00  \n",
              "5733448  41.867226 -87.615355         NaN 0 days 00:09:00  \n",
              "5733449  41.867226 -87.615355         NaN 0 days 05:36:00  \n",
              "5733450  41.867226 -87.615355         NaN 0 days 00:32:00  \n",
              "\n",
              "[5733451 rows x 17 columns]"
            ],
            "text/html": [
              "\n",
              "  <div id=\"df-9eeb0cc0-4990-42bb-a65b-bda5b59fd322\">\n",
              "    <div class=\"colab-df-container\">\n",
              "      <div>\n",
              "<style scoped>\n",
              "    .dataframe tbody tr th:only-of-type {\n",
              "        vertical-align: middle;\n",
              "    }\n",
              "\n",
              "    .dataframe tbody tr th {\n",
              "        vertical-align: top;\n",
              "    }\n",
              "\n",
              "    .dataframe thead th {\n",
              "        text-align: right;\n",
              "    }\n",
              "</style>\n",
              "<table border=\"1\" class=\"dataframe\">\n",
              "  <thead>\n",
              "    <tr style=\"text-align: right;\">\n",
              "      <th></th>\n",
              "      <th>ride_id</th>\n",
              "      <th>rideable_type</th>\n",
              "      <th>started_at</th>\n",
              "      <th>ended_at</th>\n",
              "      <th>ride_length</th>\n",
              "      <th>days_of_week</th>\n",
              "      <th>member_casual</th>\n",
              "      <th>start_station_name</th>\n",
              "      <th>start_station_id</th>\n",
              "      <th>end_station_name</th>\n",
              "      <th>end_station_id</th>\n",
              "      <th>start_lat</th>\n",
              "      <th>start_lng</th>\n",
              "      <th>end_lat</th>\n",
              "      <th>end_lng</th>\n",
              "      <th>ride-length</th>\n",
              "      <th>duration</th>\n",
              "    </tr>\n",
              "  </thead>\n",
              "  <tbody>\n",
              "    <tr>\n",
              "      <th>0</th>\n",
              "      <td>46F8167220E4431F</td>\n",
              "      <td>electric_bike</td>\n",
              "      <td>2021-12-07 15:06:00</td>\n",
              "      <td>2021-12-07 15:13:00</td>\n",
              "      <td>00:07:35</td>\n",
              "      <td>3</td>\n",
              "      <td>member</td>\n",
              "      <td>Laflin St &amp; Cullerton St</td>\n",
              "      <td>13307</td>\n",
              "      <td>Morgan St &amp; Polk St</td>\n",
              "      <td>TA1307000130</td>\n",
              "      <td>41.854833</td>\n",
              "      <td>-87.663660</td>\n",
              "      <td>41.871969</td>\n",
              "      <td>-87.650965</td>\n",
              "      <td>NaN</td>\n",
              "      <td>0 days 00:07:00</td>\n",
              "    </tr>\n",
              "    <tr>\n",
              "      <th>1</th>\n",
              "      <td>73A77762838B32FD</td>\n",
              "      <td>electric_bike</td>\n",
              "      <td>2021-12-11 03:43:00</td>\n",
              "      <td>2021-12-11 04:10:00</td>\n",
              "      <td>00:26:54</td>\n",
              "      <td>7</td>\n",
              "      <td>casual</td>\n",
              "      <td>LaSalle Dr &amp; Huron St</td>\n",
              "      <td>KP1705001026</td>\n",
              "      <td>Clarendon Ave &amp; Leland Ave</td>\n",
              "      <td>TA1307000119</td>\n",
              "      <td>41.894405</td>\n",
              "      <td>-87.632331</td>\n",
              "      <td>41.967968</td>\n",
              "      <td>-87.650001</td>\n",
              "      <td>NaN</td>\n",
              "      <td>0 days 00:27:00</td>\n",
              "    </tr>\n",
              "    <tr>\n",
              "      <th>2</th>\n",
              "      <td>4CF42452054F59C5</td>\n",
              "      <td>electric_bike</td>\n",
              "      <td>2021-12-15 23:10:00</td>\n",
              "      <td>2021-12-15 23:23:00</td>\n",
              "      <td>00:12:46</td>\n",
              "      <td>4</td>\n",
              "      <td>member</td>\n",
              "      <td>Halsted St &amp; North Branch St</td>\n",
              "      <td>KA1504000117</td>\n",
              "      <td>Broadway &amp; Barry Ave</td>\n",
              "      <td>13137</td>\n",
              "      <td>41.899357</td>\n",
              "      <td>-87.648522</td>\n",
              "      <td>41.937582</td>\n",
              "      <td>-87.644098</td>\n",
              "      <td>NaN</td>\n",
              "      <td>0 days 00:13:00</td>\n",
              "    </tr>\n",
              "    <tr>\n",
              "      <th>3</th>\n",
              "      <td>3278BA87BF698339</td>\n",
              "      <td>classic_bike</td>\n",
              "      <td>2021-12-26 16:16:00</td>\n",
              "      <td>2021-12-26 16:30:00</td>\n",
              "      <td>00:14:43</td>\n",
              "      <td>1</td>\n",
              "      <td>member</td>\n",
              "      <td>Halsted St &amp; North Branch St</td>\n",
              "      <td>KA1504000117</td>\n",
              "      <td>LaSalle Dr &amp; Huron St</td>\n",
              "      <td>KP1705001026</td>\n",
              "      <td>41.899390</td>\n",
              "      <td>-87.648545</td>\n",
              "      <td>41.894877</td>\n",
              "      <td>-87.632326</td>\n",
              "      <td>NaN</td>\n",
              "      <td>0 days 00:14:00</td>\n",
              "    </tr>\n",
              "    <tr>\n",
              "      <th>4</th>\n",
              "      <td>6FF54232576A3B73</td>\n",
              "      <td>electric_bike</td>\n",
              "      <td>2021-12-30 11:31:00</td>\n",
              "      <td>2021-12-30 11:51:00</td>\n",
              "      <td>00:20:16</td>\n",
              "      <td>5</td>\n",
              "      <td>member</td>\n",
              "      <td>Leavitt St &amp; Chicago Ave</td>\n",
              "      <td>18058</td>\n",
              "      <td>Clark St &amp; Drummond Pl</td>\n",
              "      <td>TA1307000142</td>\n",
              "      <td>41.895579</td>\n",
              "      <td>-87.682024</td>\n",
              "      <td>41.931248</td>\n",
              "      <td>-87.644336</td>\n",
              "      <td>NaN</td>\n",
              "      <td>0 days 00:20:00</td>\n",
              "    </tr>\n",
              "    <tr>\n",
              "      <th>...</th>\n",
              "      <td>...</td>\n",
              "      <td>...</td>\n",
              "      <td>...</td>\n",
              "      <td>...</td>\n",
              "      <td>...</td>\n",
              "      <td>...</td>\n",
              "      <td>...</td>\n",
              "      <td>...</td>\n",
              "      <td>...</td>\n",
              "      <td>...</td>\n",
              "      <td>...</td>\n",
              "      <td>...</td>\n",
              "      <td>...</td>\n",
              "      <td>...</td>\n",
              "      <td>...</td>\n",
              "      <td>...</td>\n",
              "      <td>...</td>\n",
              "    </tr>\n",
              "    <tr>\n",
              "      <th>5733446</th>\n",
              "      <td>C349E243A9BAA6F7</td>\n",
              "      <td>electric_bike</td>\n",
              "      <td>2022-11-25 11:19:00</td>\n",
              "      <td>2022-11-25 11:31:00</td>\n",
              "      <td>00:11:58</td>\n",
              "      <td>6</td>\n",
              "      <td>member</td>\n",
              "      <td>Wabash Ave &amp; Grand Ave</td>\n",
              "      <td>TA1307000117</td>\n",
              "      <td>NaN</td>\n",
              "      <td>NaN</td>\n",
              "      <td>41.891836</td>\n",
              "      <td>-87.626806</td>\n",
              "      <td>41.890000</td>\n",
              "      <td>-87.620000</td>\n",
              "      <td>NaN</td>\n",
              "      <td>0 days 00:12:00</td>\n",
              "    </tr>\n",
              "    <tr>\n",
              "      <th>5733447</th>\n",
              "      <td>B0B4E85DA43A9194</td>\n",
              "      <td>classic_bike</td>\n",
              "      <td>2022-11-22 16:57:00</td>\n",
              "      <td>2022-11-22 17:31:00</td>\n",
              "      <td>00:33:36</td>\n",
              "      <td>3</td>\n",
              "      <td>casual</td>\n",
              "      <td>Franklin St &amp; Jackson Blvd</td>\n",
              "      <td>TA1305000025</td>\n",
              "      <td>Sheffield Ave &amp; Wrightwood Ave</td>\n",
              "      <td>TA1309000023</td>\n",
              "      <td>41.877708</td>\n",
              "      <td>-87.635321</td>\n",
              "      <td>41.928712</td>\n",
              "      <td>-87.653833</td>\n",
              "      <td>NaN</td>\n",
              "      <td>0 days 00:34:00</td>\n",
              "    </tr>\n",
              "    <tr>\n",
              "      <th>5733448</th>\n",
              "      <td>8D148DD47B59530B</td>\n",
              "      <td>classic_bike</td>\n",
              "      <td>2022-11-06 13:04:00</td>\n",
              "      <td>2022-11-06 13:13:00</td>\n",
              "      <td>00:09:28</td>\n",
              "      <td>1</td>\n",
              "      <td>casual</td>\n",
              "      <td>Michigan Ave &amp; Ida B Wells Dr</td>\n",
              "      <td>TA1305000010</td>\n",
              "      <td>Shedd Aquarium</td>\n",
              "      <td>15544</td>\n",
              "      <td>41.876243</td>\n",
              "      <td>-87.624426</td>\n",
              "      <td>41.867226</td>\n",
              "      <td>-87.615355</td>\n",
              "      <td>NaN</td>\n",
              "      <td>0 days 00:09:00</td>\n",
              "    </tr>\n",
              "    <tr>\n",
              "      <th>5733449</th>\n",
              "      <td>0D1170BA18FD33D1</td>\n",
              "      <td>classic_bike</td>\n",
              "      <td>2022-11-06 09:41:00</td>\n",
              "      <td>2022-11-06 15:17:00</td>\n",
              "      <td>05:35:48</td>\n",
              "      <td>1</td>\n",
              "      <td>casual</td>\n",
              "      <td>Halsted St &amp; 18th St</td>\n",
              "      <td>13099</td>\n",
              "      <td>Shedd Aquarium</td>\n",
              "      <td>15544</td>\n",
              "      <td>41.857506</td>\n",
              "      <td>-87.645991</td>\n",
              "      <td>41.867226</td>\n",
              "      <td>-87.615355</td>\n",
              "      <td>NaN</td>\n",
              "      <td>0 days 05:36:00</td>\n",
              "    </tr>\n",
              "    <tr>\n",
              "      <th>5733450</th>\n",
              "      <td>09B20DC75B5EA1E0</td>\n",
              "      <td>electric_bike</td>\n",
              "      <td>2022-11-26 11:59:00</td>\n",
              "      <td>2022-11-26 12:31:00</td>\n",
              "      <td>00:31:36</td>\n",
              "      <td>7</td>\n",
              "      <td>casual</td>\n",
              "      <td>Michigan Ave &amp; Ida B Wells Dr</td>\n",
              "      <td>TA1305000010</td>\n",
              "      <td>Shedd Aquarium</td>\n",
              "      <td>15544</td>\n",
              "      <td>41.876272</td>\n",
              "      <td>-87.624576</td>\n",
              "      <td>41.867226</td>\n",
              "      <td>-87.615355</td>\n",
              "      <td>NaN</td>\n",
              "      <td>0 days 00:32:00</td>\n",
              "    </tr>\n",
              "  </tbody>\n",
              "</table>\n",
              "<p>5733451 rows × 17 columns</p>\n",
              "</div>\n",
              "      <button class=\"colab-df-convert\" onclick=\"convertToInteractive('df-9eeb0cc0-4990-42bb-a65b-bda5b59fd322')\"\n",
              "              title=\"Convert this dataframe to an interactive table.\"\n",
              "              style=\"display:none;\">\n",
              "        \n",
              "  <svg xmlns=\"http://www.w3.org/2000/svg\" height=\"24px\"viewBox=\"0 0 24 24\"\n",
              "       width=\"24px\">\n",
              "    <path d=\"M0 0h24v24H0V0z\" fill=\"none\"/>\n",
              "    <path d=\"M18.56 5.44l.94 2.06.94-2.06 2.06-.94-2.06-.94-.94-2.06-.94 2.06-2.06.94zm-11 1L8.5 8.5l.94-2.06 2.06-.94-2.06-.94L8.5 2.5l-.94 2.06-2.06.94zm10 10l.94 2.06.94-2.06 2.06-.94-2.06-.94-.94-2.06-.94 2.06-2.06.94z\"/><path d=\"M17.41 7.96l-1.37-1.37c-.4-.4-.92-.59-1.43-.59-.52 0-1.04.2-1.43.59L10.3 9.45l-7.72 7.72c-.78.78-.78 2.05 0 2.83L4 21.41c.39.39.9.59 1.41.59.51 0 1.02-.2 1.41-.59l7.78-7.78 2.81-2.81c.8-.78.8-2.07 0-2.86zM5.41 20L4 18.59l7.72-7.72 1.47 1.35L5.41 20z\"/>\n",
              "  </svg>\n",
              "      </button>\n",
              "      \n",
              "  <style>\n",
              "    .colab-df-container {\n",
              "      display:flex;\n",
              "      flex-wrap:wrap;\n",
              "      gap: 12px;\n",
              "    }\n",
              "\n",
              "    .colab-df-convert {\n",
              "      background-color: #E8F0FE;\n",
              "      border: none;\n",
              "      border-radius: 50%;\n",
              "      cursor: pointer;\n",
              "      display: none;\n",
              "      fill: #1967D2;\n",
              "      height: 32px;\n",
              "      padding: 0 0 0 0;\n",
              "      width: 32px;\n",
              "    }\n",
              "\n",
              "    .colab-df-convert:hover {\n",
              "      background-color: #E2EBFA;\n",
              "      box-shadow: 0px 1px 2px rgba(60, 64, 67, 0.3), 0px 1px 3px 1px rgba(60, 64, 67, 0.15);\n",
              "      fill: #174EA6;\n",
              "    }\n",
              "\n",
              "    [theme=dark] .colab-df-convert {\n",
              "      background-color: #3B4455;\n",
              "      fill: #D2E3FC;\n",
              "    }\n",
              "\n",
              "    [theme=dark] .colab-df-convert:hover {\n",
              "      background-color: #434B5C;\n",
              "      box-shadow: 0px 1px 3px 1px rgba(0, 0, 0, 0.15);\n",
              "      filter: drop-shadow(0px 1px 2px rgba(0, 0, 0, 0.3));\n",
              "      fill: #FFFFFF;\n",
              "    }\n",
              "  </style>\n",
              "\n",
              "      <script>\n",
              "        const buttonEl =\n",
              "          document.querySelector('#df-9eeb0cc0-4990-42bb-a65b-bda5b59fd322 button.colab-df-convert');\n",
              "        buttonEl.style.display =\n",
              "          google.colab.kernel.accessAllowed ? 'block' : 'none';\n",
              "\n",
              "        async function convertToInteractive(key) {\n",
              "          const element = document.querySelector('#df-9eeb0cc0-4990-42bb-a65b-bda5b59fd322');\n",
              "          const dataTable =\n",
              "            await google.colab.kernel.invokeFunction('convertToInteractive',\n",
              "                                                     [key], {});\n",
              "          if (!dataTable) return;\n",
              "\n",
              "          const docLinkHtml = 'Like what you see? Visit the ' +\n",
              "            '<a target=\"_blank\" href=https://colab.research.google.com/notebooks/data_table.ipynb>data table notebook</a>'\n",
              "            + ' to learn more about interactive tables.';\n",
              "          element.innerHTML = '';\n",
              "          dataTable['output_type'] = 'display_data';\n",
              "          await google.colab.output.renderOutput(dataTable, element);\n",
              "          const docLink = document.createElement('div');\n",
              "          docLink.innerHTML = docLinkHtml;\n",
              "          element.appendChild(docLink);\n",
              "        }\n",
              "      </script>\n",
              "    </div>\n",
              "  </div>\n",
              "  "
            ]
          },
          "metadata": {},
          "execution_count": 21
        }
      ]
    },
    {
      "cell_type": "code",
      "source": [],
      "metadata": {
        "id": "N0MIRj1LqWIh"
      },
      "execution_count": null,
      "outputs": []
    },
    {
      "cell_type": "markdown",
      "source": [
        "Obtaining the duration's min to later plot the graph\n",
        "\n",
        "\n"
      ],
      "metadata": {
        "id": "h6yUCxlhqVA5"
      }
    },
    {
      "cell_type": "code",
      "source": [
        "dfss['duration_min']= dfss.duration.dt.total_seconds()/60\n",
        "dfss"
      ],
      "metadata": {
        "colab": {
          "base_uri": "https://localhost:8080/",
          "height": 852
        },
        "id": "9AZOIbw0DegW",
        "outputId": "e7a5183f-c04c-4716-f5dc-c61653d9f738"
      },
      "execution_count": null,
      "outputs": [
        {
          "output_type": "execute_result",
          "data": {
            "text/plain": [
              "                  ride_id  rideable_type          started_at  \\\n",
              "0        46F8167220E4431F  electric_bike 2021-12-07 15:06:00   \n",
              "1        73A77762838B32FD  electric_bike 2021-12-11 03:43:00   \n",
              "2        4CF42452054F59C5  electric_bike 2021-12-15 23:10:00   \n",
              "3        3278BA87BF698339   classic_bike 2021-12-26 16:16:00   \n",
              "4        6FF54232576A3B73  electric_bike 2021-12-30 11:31:00   \n",
              "...                   ...            ...                 ...   \n",
              "5733446  C349E243A9BAA6F7  electric_bike 2022-11-25 11:19:00   \n",
              "5733447  B0B4E85DA43A9194   classic_bike 2022-11-22 16:57:00   \n",
              "5733448  8D148DD47B59530B   classic_bike 2022-11-06 13:04:00   \n",
              "5733449  0D1170BA18FD33D1   classic_bike 2022-11-06 09:41:00   \n",
              "5733450  09B20DC75B5EA1E0  electric_bike 2022-11-26 11:59:00   \n",
              "\n",
              "                   ended_at ride_length  days_of_week member_casual  \\\n",
              "0       2021-12-07 15:13:00    00:07:35             3        member   \n",
              "1       2021-12-11 04:10:00    00:26:54             7        casual   \n",
              "2       2021-12-15 23:23:00    00:12:46             4        member   \n",
              "3       2021-12-26 16:30:00    00:14:43             1        member   \n",
              "4       2021-12-30 11:51:00    00:20:16             5        member   \n",
              "...                     ...         ...           ...           ...   \n",
              "5733446 2022-11-25 11:31:00    00:11:58             6        member   \n",
              "5733447 2022-11-22 17:31:00    00:33:36             3        casual   \n",
              "5733448 2022-11-06 13:13:00    00:09:28             1        casual   \n",
              "5733449 2022-11-06 15:17:00    05:35:48             1        casual   \n",
              "5733450 2022-11-26 12:31:00    00:31:36             7        casual   \n",
              "\n",
              "                    start_station_name start_station_id  \\\n",
              "0             Laflin St & Cullerton St            13307   \n",
              "1                LaSalle Dr & Huron St     KP1705001026   \n",
              "2         Halsted St & North Branch St     KA1504000117   \n",
              "3         Halsted St & North Branch St     KA1504000117   \n",
              "4             Leavitt St & Chicago Ave            18058   \n",
              "...                                ...              ...   \n",
              "5733446         Wabash Ave & Grand Ave     TA1307000117   \n",
              "5733447     Franklin St & Jackson Blvd     TA1305000025   \n",
              "5733448  Michigan Ave & Ida B Wells Dr     TA1305000010   \n",
              "5733449           Halsted St & 18th St            13099   \n",
              "5733450  Michigan Ave & Ida B Wells Dr     TA1305000010   \n",
              "\n",
              "                       end_station_name end_station_id  start_lat  start_lng  \\\n",
              "0                   Morgan St & Polk St   TA1307000130  41.854833 -87.663660   \n",
              "1            Clarendon Ave & Leland Ave   TA1307000119  41.894405 -87.632331   \n",
              "2                  Broadway & Barry Ave          13137  41.899357 -87.648522   \n",
              "3                 LaSalle Dr & Huron St   KP1705001026  41.899390 -87.648545   \n",
              "4                Clark St & Drummond Pl   TA1307000142  41.895579 -87.682024   \n",
              "...                                 ...            ...        ...        ...   \n",
              "5733446                             NaN            NaN  41.891836 -87.626806   \n",
              "5733447  Sheffield Ave & Wrightwood Ave   TA1309000023  41.877708 -87.635321   \n",
              "5733448                  Shedd Aquarium          15544  41.876243 -87.624426   \n",
              "5733449                  Shedd Aquarium          15544  41.857506 -87.645991   \n",
              "5733450                  Shedd Aquarium          15544  41.876272 -87.624576   \n",
              "\n",
              "           end_lat    end_lng ride-length        duration  duration_min  \n",
              "0        41.871969 -87.650965         NaN 0 days 00:07:00           7.0  \n",
              "1        41.967968 -87.650001         NaN 0 days 00:27:00          27.0  \n",
              "2        41.937582 -87.644098         NaN 0 days 00:13:00          13.0  \n",
              "3        41.894877 -87.632326         NaN 0 days 00:14:00          14.0  \n",
              "4        41.931248 -87.644336         NaN 0 days 00:20:00          20.0  \n",
              "...            ...        ...         ...             ...           ...  \n",
              "5733446  41.890000 -87.620000         NaN 0 days 00:12:00          12.0  \n",
              "5733447  41.928712 -87.653833         NaN 0 days 00:34:00          34.0  \n",
              "5733448  41.867226 -87.615355         NaN 0 days 00:09:00           9.0  \n",
              "5733449  41.867226 -87.615355         NaN 0 days 05:36:00         336.0  \n",
              "5733450  41.867226 -87.615355         NaN 0 days 00:32:00          32.0  \n",
              "\n",
              "[5733451 rows x 18 columns]"
            ],
            "text/html": [
              "\n",
              "  <div id=\"df-b7739c7f-45f7-412b-a901-3682d99781c1\">\n",
              "    <div class=\"colab-df-container\">\n",
              "      <div>\n",
              "<style scoped>\n",
              "    .dataframe tbody tr th:only-of-type {\n",
              "        vertical-align: middle;\n",
              "    }\n",
              "\n",
              "    .dataframe tbody tr th {\n",
              "        vertical-align: top;\n",
              "    }\n",
              "\n",
              "    .dataframe thead th {\n",
              "        text-align: right;\n",
              "    }\n",
              "</style>\n",
              "<table border=\"1\" class=\"dataframe\">\n",
              "  <thead>\n",
              "    <tr style=\"text-align: right;\">\n",
              "      <th></th>\n",
              "      <th>ride_id</th>\n",
              "      <th>rideable_type</th>\n",
              "      <th>started_at</th>\n",
              "      <th>ended_at</th>\n",
              "      <th>ride_length</th>\n",
              "      <th>days_of_week</th>\n",
              "      <th>member_casual</th>\n",
              "      <th>start_station_name</th>\n",
              "      <th>start_station_id</th>\n",
              "      <th>end_station_name</th>\n",
              "      <th>end_station_id</th>\n",
              "      <th>start_lat</th>\n",
              "      <th>start_lng</th>\n",
              "      <th>end_lat</th>\n",
              "      <th>end_lng</th>\n",
              "      <th>ride-length</th>\n",
              "      <th>duration</th>\n",
              "      <th>duration_min</th>\n",
              "    </tr>\n",
              "  </thead>\n",
              "  <tbody>\n",
              "    <tr>\n",
              "      <th>0</th>\n",
              "      <td>46F8167220E4431F</td>\n",
              "      <td>electric_bike</td>\n",
              "      <td>2021-12-07 15:06:00</td>\n",
              "      <td>2021-12-07 15:13:00</td>\n",
              "      <td>00:07:35</td>\n",
              "      <td>3</td>\n",
              "      <td>member</td>\n",
              "      <td>Laflin St &amp; Cullerton St</td>\n",
              "      <td>13307</td>\n",
              "      <td>Morgan St &amp; Polk St</td>\n",
              "      <td>TA1307000130</td>\n",
              "      <td>41.854833</td>\n",
              "      <td>-87.663660</td>\n",
              "      <td>41.871969</td>\n",
              "      <td>-87.650965</td>\n",
              "      <td>NaN</td>\n",
              "      <td>0 days 00:07:00</td>\n",
              "      <td>7.0</td>\n",
              "    </tr>\n",
              "    <tr>\n",
              "      <th>1</th>\n",
              "      <td>73A77762838B32FD</td>\n",
              "      <td>electric_bike</td>\n",
              "      <td>2021-12-11 03:43:00</td>\n",
              "      <td>2021-12-11 04:10:00</td>\n",
              "      <td>00:26:54</td>\n",
              "      <td>7</td>\n",
              "      <td>casual</td>\n",
              "      <td>LaSalle Dr &amp; Huron St</td>\n",
              "      <td>KP1705001026</td>\n",
              "      <td>Clarendon Ave &amp; Leland Ave</td>\n",
              "      <td>TA1307000119</td>\n",
              "      <td>41.894405</td>\n",
              "      <td>-87.632331</td>\n",
              "      <td>41.967968</td>\n",
              "      <td>-87.650001</td>\n",
              "      <td>NaN</td>\n",
              "      <td>0 days 00:27:00</td>\n",
              "      <td>27.0</td>\n",
              "    </tr>\n",
              "    <tr>\n",
              "      <th>2</th>\n",
              "      <td>4CF42452054F59C5</td>\n",
              "      <td>electric_bike</td>\n",
              "      <td>2021-12-15 23:10:00</td>\n",
              "      <td>2021-12-15 23:23:00</td>\n",
              "      <td>00:12:46</td>\n",
              "      <td>4</td>\n",
              "      <td>member</td>\n",
              "      <td>Halsted St &amp; North Branch St</td>\n",
              "      <td>KA1504000117</td>\n",
              "      <td>Broadway &amp; Barry Ave</td>\n",
              "      <td>13137</td>\n",
              "      <td>41.899357</td>\n",
              "      <td>-87.648522</td>\n",
              "      <td>41.937582</td>\n",
              "      <td>-87.644098</td>\n",
              "      <td>NaN</td>\n",
              "      <td>0 days 00:13:00</td>\n",
              "      <td>13.0</td>\n",
              "    </tr>\n",
              "    <tr>\n",
              "      <th>3</th>\n",
              "      <td>3278BA87BF698339</td>\n",
              "      <td>classic_bike</td>\n",
              "      <td>2021-12-26 16:16:00</td>\n",
              "      <td>2021-12-26 16:30:00</td>\n",
              "      <td>00:14:43</td>\n",
              "      <td>1</td>\n",
              "      <td>member</td>\n",
              "      <td>Halsted St &amp; North Branch St</td>\n",
              "      <td>KA1504000117</td>\n",
              "      <td>LaSalle Dr &amp; Huron St</td>\n",
              "      <td>KP1705001026</td>\n",
              "      <td>41.899390</td>\n",
              "      <td>-87.648545</td>\n",
              "      <td>41.894877</td>\n",
              "      <td>-87.632326</td>\n",
              "      <td>NaN</td>\n",
              "      <td>0 days 00:14:00</td>\n",
              "      <td>14.0</td>\n",
              "    </tr>\n",
              "    <tr>\n",
              "      <th>4</th>\n",
              "      <td>6FF54232576A3B73</td>\n",
              "      <td>electric_bike</td>\n",
              "      <td>2021-12-30 11:31:00</td>\n",
              "      <td>2021-12-30 11:51:00</td>\n",
              "      <td>00:20:16</td>\n",
              "      <td>5</td>\n",
              "      <td>member</td>\n",
              "      <td>Leavitt St &amp; Chicago Ave</td>\n",
              "      <td>18058</td>\n",
              "      <td>Clark St &amp; Drummond Pl</td>\n",
              "      <td>TA1307000142</td>\n",
              "      <td>41.895579</td>\n",
              "      <td>-87.682024</td>\n",
              "      <td>41.931248</td>\n",
              "      <td>-87.644336</td>\n",
              "      <td>NaN</td>\n",
              "      <td>0 days 00:20:00</td>\n",
              "      <td>20.0</td>\n",
              "    </tr>\n",
              "    <tr>\n",
              "      <th>...</th>\n",
              "      <td>...</td>\n",
              "      <td>...</td>\n",
              "      <td>...</td>\n",
              "      <td>...</td>\n",
              "      <td>...</td>\n",
              "      <td>...</td>\n",
              "      <td>...</td>\n",
              "      <td>...</td>\n",
              "      <td>...</td>\n",
              "      <td>...</td>\n",
              "      <td>...</td>\n",
              "      <td>...</td>\n",
              "      <td>...</td>\n",
              "      <td>...</td>\n",
              "      <td>...</td>\n",
              "      <td>...</td>\n",
              "      <td>...</td>\n",
              "      <td>...</td>\n",
              "    </tr>\n",
              "    <tr>\n",
              "      <th>5733446</th>\n",
              "      <td>C349E243A9BAA6F7</td>\n",
              "      <td>electric_bike</td>\n",
              "      <td>2022-11-25 11:19:00</td>\n",
              "      <td>2022-11-25 11:31:00</td>\n",
              "      <td>00:11:58</td>\n",
              "      <td>6</td>\n",
              "      <td>member</td>\n",
              "      <td>Wabash Ave &amp; Grand Ave</td>\n",
              "      <td>TA1307000117</td>\n",
              "      <td>NaN</td>\n",
              "      <td>NaN</td>\n",
              "      <td>41.891836</td>\n",
              "      <td>-87.626806</td>\n",
              "      <td>41.890000</td>\n",
              "      <td>-87.620000</td>\n",
              "      <td>NaN</td>\n",
              "      <td>0 days 00:12:00</td>\n",
              "      <td>12.0</td>\n",
              "    </tr>\n",
              "    <tr>\n",
              "      <th>5733447</th>\n",
              "      <td>B0B4E85DA43A9194</td>\n",
              "      <td>classic_bike</td>\n",
              "      <td>2022-11-22 16:57:00</td>\n",
              "      <td>2022-11-22 17:31:00</td>\n",
              "      <td>00:33:36</td>\n",
              "      <td>3</td>\n",
              "      <td>casual</td>\n",
              "      <td>Franklin St &amp; Jackson Blvd</td>\n",
              "      <td>TA1305000025</td>\n",
              "      <td>Sheffield Ave &amp; Wrightwood Ave</td>\n",
              "      <td>TA1309000023</td>\n",
              "      <td>41.877708</td>\n",
              "      <td>-87.635321</td>\n",
              "      <td>41.928712</td>\n",
              "      <td>-87.653833</td>\n",
              "      <td>NaN</td>\n",
              "      <td>0 days 00:34:00</td>\n",
              "      <td>34.0</td>\n",
              "    </tr>\n",
              "    <tr>\n",
              "      <th>5733448</th>\n",
              "      <td>8D148DD47B59530B</td>\n",
              "      <td>classic_bike</td>\n",
              "      <td>2022-11-06 13:04:00</td>\n",
              "      <td>2022-11-06 13:13:00</td>\n",
              "      <td>00:09:28</td>\n",
              "      <td>1</td>\n",
              "      <td>casual</td>\n",
              "      <td>Michigan Ave &amp; Ida B Wells Dr</td>\n",
              "      <td>TA1305000010</td>\n",
              "      <td>Shedd Aquarium</td>\n",
              "      <td>15544</td>\n",
              "      <td>41.876243</td>\n",
              "      <td>-87.624426</td>\n",
              "      <td>41.867226</td>\n",
              "      <td>-87.615355</td>\n",
              "      <td>NaN</td>\n",
              "      <td>0 days 00:09:00</td>\n",
              "      <td>9.0</td>\n",
              "    </tr>\n",
              "    <tr>\n",
              "      <th>5733449</th>\n",
              "      <td>0D1170BA18FD33D1</td>\n",
              "      <td>classic_bike</td>\n",
              "      <td>2022-11-06 09:41:00</td>\n",
              "      <td>2022-11-06 15:17:00</td>\n",
              "      <td>05:35:48</td>\n",
              "      <td>1</td>\n",
              "      <td>casual</td>\n",
              "      <td>Halsted St &amp; 18th St</td>\n",
              "      <td>13099</td>\n",
              "      <td>Shedd Aquarium</td>\n",
              "      <td>15544</td>\n",
              "      <td>41.857506</td>\n",
              "      <td>-87.645991</td>\n",
              "      <td>41.867226</td>\n",
              "      <td>-87.615355</td>\n",
              "      <td>NaN</td>\n",
              "      <td>0 days 05:36:00</td>\n",
              "      <td>336.0</td>\n",
              "    </tr>\n",
              "    <tr>\n",
              "      <th>5733450</th>\n",
              "      <td>09B20DC75B5EA1E0</td>\n",
              "      <td>electric_bike</td>\n",
              "      <td>2022-11-26 11:59:00</td>\n",
              "      <td>2022-11-26 12:31:00</td>\n",
              "      <td>00:31:36</td>\n",
              "      <td>7</td>\n",
              "      <td>casual</td>\n",
              "      <td>Michigan Ave &amp; Ida B Wells Dr</td>\n",
              "      <td>TA1305000010</td>\n",
              "      <td>Shedd Aquarium</td>\n",
              "      <td>15544</td>\n",
              "      <td>41.876272</td>\n",
              "      <td>-87.624576</td>\n",
              "      <td>41.867226</td>\n",
              "      <td>-87.615355</td>\n",
              "      <td>NaN</td>\n",
              "      <td>0 days 00:32:00</td>\n",
              "      <td>32.0</td>\n",
              "    </tr>\n",
              "  </tbody>\n",
              "</table>\n",
              "<p>5733451 rows × 18 columns</p>\n",
              "</div>\n",
              "      <button class=\"colab-df-convert\" onclick=\"convertToInteractive('df-b7739c7f-45f7-412b-a901-3682d99781c1')\"\n",
              "              title=\"Convert this dataframe to an interactive table.\"\n",
              "              style=\"display:none;\">\n",
              "        \n",
              "  <svg xmlns=\"http://www.w3.org/2000/svg\" height=\"24px\"viewBox=\"0 0 24 24\"\n",
              "       width=\"24px\">\n",
              "    <path d=\"M0 0h24v24H0V0z\" fill=\"none\"/>\n",
              "    <path d=\"M18.56 5.44l.94 2.06.94-2.06 2.06-.94-2.06-.94-.94-2.06-.94 2.06-2.06.94zm-11 1L8.5 8.5l.94-2.06 2.06-.94-2.06-.94L8.5 2.5l-.94 2.06-2.06.94zm10 10l.94 2.06.94-2.06 2.06-.94-2.06-.94-.94-2.06-.94 2.06-2.06.94z\"/><path d=\"M17.41 7.96l-1.37-1.37c-.4-.4-.92-.59-1.43-.59-.52 0-1.04.2-1.43.59L10.3 9.45l-7.72 7.72c-.78.78-.78 2.05 0 2.83L4 21.41c.39.39.9.59 1.41.59.51 0 1.02-.2 1.41-.59l7.78-7.78 2.81-2.81c.8-.78.8-2.07 0-2.86zM5.41 20L4 18.59l7.72-7.72 1.47 1.35L5.41 20z\"/>\n",
              "  </svg>\n",
              "      </button>\n",
              "      \n",
              "  <style>\n",
              "    .colab-df-container {\n",
              "      display:flex;\n",
              "      flex-wrap:wrap;\n",
              "      gap: 12px;\n",
              "    }\n",
              "\n",
              "    .colab-df-convert {\n",
              "      background-color: #E8F0FE;\n",
              "      border: none;\n",
              "      border-radius: 50%;\n",
              "      cursor: pointer;\n",
              "      display: none;\n",
              "      fill: #1967D2;\n",
              "      height: 32px;\n",
              "      padding: 0 0 0 0;\n",
              "      width: 32px;\n",
              "    }\n",
              "\n",
              "    .colab-df-convert:hover {\n",
              "      background-color: #E2EBFA;\n",
              "      box-shadow: 0px 1px 2px rgba(60, 64, 67, 0.3), 0px 1px 3px 1px rgba(60, 64, 67, 0.15);\n",
              "      fill: #174EA6;\n",
              "    }\n",
              "\n",
              "    [theme=dark] .colab-df-convert {\n",
              "      background-color: #3B4455;\n",
              "      fill: #D2E3FC;\n",
              "    }\n",
              "\n",
              "    [theme=dark] .colab-df-convert:hover {\n",
              "      background-color: #434B5C;\n",
              "      box-shadow: 0px 1px 3px 1px rgba(0, 0, 0, 0.15);\n",
              "      filter: drop-shadow(0px 1px 2px rgba(0, 0, 0, 0.3));\n",
              "      fill: #FFFFFF;\n",
              "    }\n",
              "  </style>\n",
              "\n",
              "      <script>\n",
              "        const buttonEl =\n",
              "          document.querySelector('#df-b7739c7f-45f7-412b-a901-3682d99781c1 button.colab-df-convert');\n",
              "        buttonEl.style.display =\n",
              "          google.colab.kernel.accessAllowed ? 'block' : 'none';\n",
              "\n",
              "        async function convertToInteractive(key) {\n",
              "          const element = document.querySelector('#df-b7739c7f-45f7-412b-a901-3682d99781c1');\n",
              "          const dataTable =\n",
              "            await google.colab.kernel.invokeFunction('convertToInteractive',\n",
              "                                                     [key], {});\n",
              "          if (!dataTable) return;\n",
              "\n",
              "          const docLinkHtml = 'Like what you see? Visit the ' +\n",
              "            '<a target=\"_blank\" href=https://colab.research.google.com/notebooks/data_table.ipynb>data table notebook</a>'\n",
              "            + ' to learn more about interactive tables.';\n",
              "          element.innerHTML = '';\n",
              "          dataTable['output_type'] = 'display_data';\n",
              "          await google.colab.output.renderOutput(dataTable, element);\n",
              "          const docLink = document.createElement('div');\n",
              "          docLink.innerHTML = docLinkHtml;\n",
              "          element.appendChild(docLink);\n",
              "        }\n",
              "      </script>\n",
              "    </div>\n",
              "  </div>\n",
              "  "
            ]
          },
          "metadata": {},
          "execution_count": 22
        }
      ]
    },
    {
      "cell_type": "code",
      "source": [],
      "metadata": {
        "id": "fx6mObRWq1iS"
      },
      "execution_count": null,
      "outputs": []
    },
    {
      "cell_type": "markdown",
      "source": [
        "Mean of the duration _min"
      ],
      "metadata": {
        "id": "v9PrZnv3qw9L"
      }
    },
    {
      "cell_type": "code",
      "source": [
        "dfss.duration_min.mean()"
      ],
      "metadata": {
        "colab": {
          "base_uri": "https://localhost:8080/"
        },
        "id": "ZTg0HwFADk9n",
        "outputId": "2d3d9c01-63d0-4ee7-f7a1-65f310711060"
      },
      "execution_count": null,
      "outputs": [
        {
          "output_type": "execute_result",
          "data": {
            "text/plain": [
              "19.41961185331487"
            ]
          },
          "metadata": {},
          "execution_count": 23
        }
      ]
    },
    {
      "cell_type": "code",
      "source": [],
      "metadata": {
        "id": "y1XS8Bg8q3NN"
      },
      "execution_count": null,
      "outputs": []
    },
    {
      "cell_type": "markdown",
      "source": [
        "Adding the column of start_hours which will represent the hour of when the rider started riding the bike\n",
        "\n",
        "\n",
        "\n"
      ],
      "metadata": {
        "id": "r04_YGgZq33B"
      }
    },
    {
      "cell_type": "code",
      "source": [
        "dfss['start_hours']= dfss.started_at.dt.hour\n",
        "dfss"
      ],
      "metadata": {
        "id": "OPqFW679Ds3D",
        "colab": {
          "base_uri": "https://localhost:8080/",
          "height": 852
        },
        "outputId": "0b751820-b9ff-4577-cbe5-a20c88ea17e2"
      },
      "execution_count": null,
      "outputs": [
        {
          "output_type": "execute_result",
          "data": {
            "text/plain": [
              "                  ride_id  rideable_type          started_at  \\\n",
              "0        46F8167220E4431F  electric_bike 2021-12-07 15:06:00   \n",
              "1        73A77762838B32FD  electric_bike 2021-12-11 03:43:00   \n",
              "2        4CF42452054F59C5  electric_bike 2021-12-15 23:10:00   \n",
              "3        3278BA87BF698339   classic_bike 2021-12-26 16:16:00   \n",
              "4        6FF54232576A3B73  electric_bike 2021-12-30 11:31:00   \n",
              "...                   ...            ...                 ...   \n",
              "5733446  C349E243A9BAA6F7  electric_bike 2022-11-25 11:19:00   \n",
              "5733447  B0B4E85DA43A9194   classic_bike 2022-11-22 16:57:00   \n",
              "5733448  8D148DD47B59530B   classic_bike 2022-11-06 13:04:00   \n",
              "5733449  0D1170BA18FD33D1   classic_bike 2022-11-06 09:41:00   \n",
              "5733450  09B20DC75B5EA1E0  electric_bike 2022-11-26 11:59:00   \n",
              "\n",
              "                   ended_at ride_length  days_of_week member_casual  \\\n",
              "0       2021-12-07 15:13:00    00:07:35             3        member   \n",
              "1       2021-12-11 04:10:00    00:26:54             7        casual   \n",
              "2       2021-12-15 23:23:00    00:12:46             4        member   \n",
              "3       2021-12-26 16:30:00    00:14:43             1        member   \n",
              "4       2021-12-30 11:51:00    00:20:16             5        member   \n",
              "...                     ...         ...           ...           ...   \n",
              "5733446 2022-11-25 11:31:00    00:11:58             6        member   \n",
              "5733447 2022-11-22 17:31:00    00:33:36             3        casual   \n",
              "5733448 2022-11-06 13:13:00    00:09:28             1        casual   \n",
              "5733449 2022-11-06 15:17:00    05:35:48             1        casual   \n",
              "5733450 2022-11-26 12:31:00    00:31:36             7        casual   \n",
              "\n",
              "                    start_station_name start_station_id  \\\n",
              "0             Laflin St & Cullerton St            13307   \n",
              "1                LaSalle Dr & Huron St     KP1705001026   \n",
              "2         Halsted St & North Branch St     KA1504000117   \n",
              "3         Halsted St & North Branch St     KA1504000117   \n",
              "4             Leavitt St & Chicago Ave            18058   \n",
              "...                                ...              ...   \n",
              "5733446         Wabash Ave & Grand Ave     TA1307000117   \n",
              "5733447     Franklin St & Jackson Blvd     TA1305000025   \n",
              "5733448  Michigan Ave & Ida B Wells Dr     TA1305000010   \n",
              "5733449           Halsted St & 18th St            13099   \n",
              "5733450  Michigan Ave & Ida B Wells Dr     TA1305000010   \n",
              "\n",
              "                       end_station_name end_station_id  start_lat  start_lng  \\\n",
              "0                   Morgan St & Polk St   TA1307000130  41.854833 -87.663660   \n",
              "1            Clarendon Ave & Leland Ave   TA1307000119  41.894405 -87.632331   \n",
              "2                  Broadway & Barry Ave          13137  41.899357 -87.648522   \n",
              "3                 LaSalle Dr & Huron St   KP1705001026  41.899390 -87.648545   \n",
              "4                Clark St & Drummond Pl   TA1307000142  41.895579 -87.682024   \n",
              "...                                 ...            ...        ...        ...   \n",
              "5733446                             NaN            NaN  41.891836 -87.626806   \n",
              "5733447  Sheffield Ave & Wrightwood Ave   TA1309000023  41.877708 -87.635321   \n",
              "5733448                  Shedd Aquarium          15544  41.876243 -87.624426   \n",
              "5733449                  Shedd Aquarium          15544  41.857506 -87.645991   \n",
              "5733450                  Shedd Aquarium          15544  41.876272 -87.624576   \n",
              "\n",
              "           end_lat    end_lng ride-length        duration  duration_min  \\\n",
              "0        41.871969 -87.650965         NaN 0 days 00:07:00           7.0   \n",
              "1        41.967968 -87.650001         NaN 0 days 00:27:00          27.0   \n",
              "2        41.937582 -87.644098         NaN 0 days 00:13:00          13.0   \n",
              "3        41.894877 -87.632326         NaN 0 days 00:14:00          14.0   \n",
              "4        41.931248 -87.644336         NaN 0 days 00:20:00          20.0   \n",
              "...            ...        ...         ...             ...           ...   \n",
              "5733446  41.890000 -87.620000         NaN 0 days 00:12:00          12.0   \n",
              "5733447  41.928712 -87.653833         NaN 0 days 00:34:00          34.0   \n",
              "5733448  41.867226 -87.615355         NaN 0 days 00:09:00           9.0   \n",
              "5733449  41.867226 -87.615355         NaN 0 days 05:36:00         336.0   \n",
              "5733450  41.867226 -87.615355         NaN 0 days 00:32:00          32.0   \n",
              "\n",
              "         start_hours  \n",
              "0                 15  \n",
              "1                  3  \n",
              "2                 23  \n",
              "3                 16  \n",
              "4                 11  \n",
              "...              ...  \n",
              "5733446           11  \n",
              "5733447           16  \n",
              "5733448           13  \n",
              "5733449            9  \n",
              "5733450           11  \n",
              "\n",
              "[5733451 rows x 19 columns]"
            ],
            "text/html": [
              "\n",
              "  <div id=\"df-aa6fbc5b-f616-41c5-8eaa-21a8f1216d59\">\n",
              "    <div class=\"colab-df-container\">\n",
              "      <div>\n",
              "<style scoped>\n",
              "    .dataframe tbody tr th:only-of-type {\n",
              "        vertical-align: middle;\n",
              "    }\n",
              "\n",
              "    .dataframe tbody tr th {\n",
              "        vertical-align: top;\n",
              "    }\n",
              "\n",
              "    .dataframe thead th {\n",
              "        text-align: right;\n",
              "    }\n",
              "</style>\n",
              "<table border=\"1\" class=\"dataframe\">\n",
              "  <thead>\n",
              "    <tr style=\"text-align: right;\">\n",
              "      <th></th>\n",
              "      <th>ride_id</th>\n",
              "      <th>rideable_type</th>\n",
              "      <th>started_at</th>\n",
              "      <th>ended_at</th>\n",
              "      <th>ride_length</th>\n",
              "      <th>days_of_week</th>\n",
              "      <th>member_casual</th>\n",
              "      <th>start_station_name</th>\n",
              "      <th>start_station_id</th>\n",
              "      <th>end_station_name</th>\n",
              "      <th>end_station_id</th>\n",
              "      <th>start_lat</th>\n",
              "      <th>start_lng</th>\n",
              "      <th>end_lat</th>\n",
              "      <th>end_lng</th>\n",
              "      <th>ride-length</th>\n",
              "      <th>duration</th>\n",
              "      <th>duration_min</th>\n",
              "      <th>start_hours</th>\n",
              "    </tr>\n",
              "  </thead>\n",
              "  <tbody>\n",
              "    <tr>\n",
              "      <th>0</th>\n",
              "      <td>46F8167220E4431F</td>\n",
              "      <td>electric_bike</td>\n",
              "      <td>2021-12-07 15:06:00</td>\n",
              "      <td>2021-12-07 15:13:00</td>\n",
              "      <td>00:07:35</td>\n",
              "      <td>3</td>\n",
              "      <td>member</td>\n",
              "      <td>Laflin St &amp; Cullerton St</td>\n",
              "      <td>13307</td>\n",
              "      <td>Morgan St &amp; Polk St</td>\n",
              "      <td>TA1307000130</td>\n",
              "      <td>41.854833</td>\n",
              "      <td>-87.663660</td>\n",
              "      <td>41.871969</td>\n",
              "      <td>-87.650965</td>\n",
              "      <td>NaN</td>\n",
              "      <td>0 days 00:07:00</td>\n",
              "      <td>7.0</td>\n",
              "      <td>15</td>\n",
              "    </tr>\n",
              "    <tr>\n",
              "      <th>1</th>\n",
              "      <td>73A77762838B32FD</td>\n",
              "      <td>electric_bike</td>\n",
              "      <td>2021-12-11 03:43:00</td>\n",
              "      <td>2021-12-11 04:10:00</td>\n",
              "      <td>00:26:54</td>\n",
              "      <td>7</td>\n",
              "      <td>casual</td>\n",
              "      <td>LaSalle Dr &amp; Huron St</td>\n",
              "      <td>KP1705001026</td>\n",
              "      <td>Clarendon Ave &amp; Leland Ave</td>\n",
              "      <td>TA1307000119</td>\n",
              "      <td>41.894405</td>\n",
              "      <td>-87.632331</td>\n",
              "      <td>41.967968</td>\n",
              "      <td>-87.650001</td>\n",
              "      <td>NaN</td>\n",
              "      <td>0 days 00:27:00</td>\n",
              "      <td>27.0</td>\n",
              "      <td>3</td>\n",
              "    </tr>\n",
              "    <tr>\n",
              "      <th>2</th>\n",
              "      <td>4CF42452054F59C5</td>\n",
              "      <td>electric_bike</td>\n",
              "      <td>2021-12-15 23:10:00</td>\n",
              "      <td>2021-12-15 23:23:00</td>\n",
              "      <td>00:12:46</td>\n",
              "      <td>4</td>\n",
              "      <td>member</td>\n",
              "      <td>Halsted St &amp; North Branch St</td>\n",
              "      <td>KA1504000117</td>\n",
              "      <td>Broadway &amp; Barry Ave</td>\n",
              "      <td>13137</td>\n",
              "      <td>41.899357</td>\n",
              "      <td>-87.648522</td>\n",
              "      <td>41.937582</td>\n",
              "      <td>-87.644098</td>\n",
              "      <td>NaN</td>\n",
              "      <td>0 days 00:13:00</td>\n",
              "      <td>13.0</td>\n",
              "      <td>23</td>\n",
              "    </tr>\n",
              "    <tr>\n",
              "      <th>3</th>\n",
              "      <td>3278BA87BF698339</td>\n",
              "      <td>classic_bike</td>\n",
              "      <td>2021-12-26 16:16:00</td>\n",
              "      <td>2021-12-26 16:30:00</td>\n",
              "      <td>00:14:43</td>\n",
              "      <td>1</td>\n",
              "      <td>member</td>\n",
              "      <td>Halsted St &amp; North Branch St</td>\n",
              "      <td>KA1504000117</td>\n",
              "      <td>LaSalle Dr &amp; Huron St</td>\n",
              "      <td>KP1705001026</td>\n",
              "      <td>41.899390</td>\n",
              "      <td>-87.648545</td>\n",
              "      <td>41.894877</td>\n",
              "      <td>-87.632326</td>\n",
              "      <td>NaN</td>\n",
              "      <td>0 days 00:14:00</td>\n",
              "      <td>14.0</td>\n",
              "      <td>16</td>\n",
              "    </tr>\n",
              "    <tr>\n",
              "      <th>4</th>\n",
              "      <td>6FF54232576A3B73</td>\n",
              "      <td>electric_bike</td>\n",
              "      <td>2021-12-30 11:31:00</td>\n",
              "      <td>2021-12-30 11:51:00</td>\n",
              "      <td>00:20:16</td>\n",
              "      <td>5</td>\n",
              "      <td>member</td>\n",
              "      <td>Leavitt St &amp; Chicago Ave</td>\n",
              "      <td>18058</td>\n",
              "      <td>Clark St &amp; Drummond Pl</td>\n",
              "      <td>TA1307000142</td>\n",
              "      <td>41.895579</td>\n",
              "      <td>-87.682024</td>\n",
              "      <td>41.931248</td>\n",
              "      <td>-87.644336</td>\n",
              "      <td>NaN</td>\n",
              "      <td>0 days 00:20:00</td>\n",
              "      <td>20.0</td>\n",
              "      <td>11</td>\n",
              "    </tr>\n",
              "    <tr>\n",
              "      <th>...</th>\n",
              "      <td>...</td>\n",
              "      <td>...</td>\n",
              "      <td>...</td>\n",
              "      <td>...</td>\n",
              "      <td>...</td>\n",
              "      <td>...</td>\n",
              "      <td>...</td>\n",
              "      <td>...</td>\n",
              "      <td>...</td>\n",
              "      <td>...</td>\n",
              "      <td>...</td>\n",
              "      <td>...</td>\n",
              "      <td>...</td>\n",
              "      <td>...</td>\n",
              "      <td>...</td>\n",
              "      <td>...</td>\n",
              "      <td>...</td>\n",
              "      <td>...</td>\n",
              "      <td>...</td>\n",
              "    </tr>\n",
              "    <tr>\n",
              "      <th>5733446</th>\n",
              "      <td>C349E243A9BAA6F7</td>\n",
              "      <td>electric_bike</td>\n",
              "      <td>2022-11-25 11:19:00</td>\n",
              "      <td>2022-11-25 11:31:00</td>\n",
              "      <td>00:11:58</td>\n",
              "      <td>6</td>\n",
              "      <td>member</td>\n",
              "      <td>Wabash Ave &amp; Grand Ave</td>\n",
              "      <td>TA1307000117</td>\n",
              "      <td>NaN</td>\n",
              "      <td>NaN</td>\n",
              "      <td>41.891836</td>\n",
              "      <td>-87.626806</td>\n",
              "      <td>41.890000</td>\n",
              "      <td>-87.620000</td>\n",
              "      <td>NaN</td>\n",
              "      <td>0 days 00:12:00</td>\n",
              "      <td>12.0</td>\n",
              "      <td>11</td>\n",
              "    </tr>\n",
              "    <tr>\n",
              "      <th>5733447</th>\n",
              "      <td>B0B4E85DA43A9194</td>\n",
              "      <td>classic_bike</td>\n",
              "      <td>2022-11-22 16:57:00</td>\n",
              "      <td>2022-11-22 17:31:00</td>\n",
              "      <td>00:33:36</td>\n",
              "      <td>3</td>\n",
              "      <td>casual</td>\n",
              "      <td>Franklin St &amp; Jackson Blvd</td>\n",
              "      <td>TA1305000025</td>\n",
              "      <td>Sheffield Ave &amp; Wrightwood Ave</td>\n",
              "      <td>TA1309000023</td>\n",
              "      <td>41.877708</td>\n",
              "      <td>-87.635321</td>\n",
              "      <td>41.928712</td>\n",
              "      <td>-87.653833</td>\n",
              "      <td>NaN</td>\n",
              "      <td>0 days 00:34:00</td>\n",
              "      <td>34.0</td>\n",
              "      <td>16</td>\n",
              "    </tr>\n",
              "    <tr>\n",
              "      <th>5733448</th>\n",
              "      <td>8D148DD47B59530B</td>\n",
              "      <td>classic_bike</td>\n",
              "      <td>2022-11-06 13:04:00</td>\n",
              "      <td>2022-11-06 13:13:00</td>\n",
              "      <td>00:09:28</td>\n",
              "      <td>1</td>\n",
              "      <td>casual</td>\n",
              "      <td>Michigan Ave &amp; Ida B Wells Dr</td>\n",
              "      <td>TA1305000010</td>\n",
              "      <td>Shedd Aquarium</td>\n",
              "      <td>15544</td>\n",
              "      <td>41.876243</td>\n",
              "      <td>-87.624426</td>\n",
              "      <td>41.867226</td>\n",
              "      <td>-87.615355</td>\n",
              "      <td>NaN</td>\n",
              "      <td>0 days 00:09:00</td>\n",
              "      <td>9.0</td>\n",
              "      <td>13</td>\n",
              "    </tr>\n",
              "    <tr>\n",
              "      <th>5733449</th>\n",
              "      <td>0D1170BA18FD33D1</td>\n",
              "      <td>classic_bike</td>\n",
              "      <td>2022-11-06 09:41:00</td>\n",
              "      <td>2022-11-06 15:17:00</td>\n",
              "      <td>05:35:48</td>\n",
              "      <td>1</td>\n",
              "      <td>casual</td>\n",
              "      <td>Halsted St &amp; 18th St</td>\n",
              "      <td>13099</td>\n",
              "      <td>Shedd Aquarium</td>\n",
              "      <td>15544</td>\n",
              "      <td>41.857506</td>\n",
              "      <td>-87.645991</td>\n",
              "      <td>41.867226</td>\n",
              "      <td>-87.615355</td>\n",
              "      <td>NaN</td>\n",
              "      <td>0 days 05:36:00</td>\n",
              "      <td>336.0</td>\n",
              "      <td>9</td>\n",
              "    </tr>\n",
              "    <tr>\n",
              "      <th>5733450</th>\n",
              "      <td>09B20DC75B5EA1E0</td>\n",
              "      <td>electric_bike</td>\n",
              "      <td>2022-11-26 11:59:00</td>\n",
              "      <td>2022-11-26 12:31:00</td>\n",
              "      <td>00:31:36</td>\n",
              "      <td>7</td>\n",
              "      <td>casual</td>\n",
              "      <td>Michigan Ave &amp; Ida B Wells Dr</td>\n",
              "      <td>TA1305000010</td>\n",
              "      <td>Shedd Aquarium</td>\n",
              "      <td>15544</td>\n",
              "      <td>41.876272</td>\n",
              "      <td>-87.624576</td>\n",
              "      <td>41.867226</td>\n",
              "      <td>-87.615355</td>\n",
              "      <td>NaN</td>\n",
              "      <td>0 days 00:32:00</td>\n",
              "      <td>32.0</td>\n",
              "      <td>11</td>\n",
              "    </tr>\n",
              "  </tbody>\n",
              "</table>\n",
              "<p>5733451 rows × 19 columns</p>\n",
              "</div>\n",
              "      <button class=\"colab-df-convert\" onclick=\"convertToInteractive('df-aa6fbc5b-f616-41c5-8eaa-21a8f1216d59')\"\n",
              "              title=\"Convert this dataframe to an interactive table.\"\n",
              "              style=\"display:none;\">\n",
              "        \n",
              "  <svg xmlns=\"http://www.w3.org/2000/svg\" height=\"24px\"viewBox=\"0 0 24 24\"\n",
              "       width=\"24px\">\n",
              "    <path d=\"M0 0h24v24H0V0z\" fill=\"none\"/>\n",
              "    <path d=\"M18.56 5.44l.94 2.06.94-2.06 2.06-.94-2.06-.94-.94-2.06-.94 2.06-2.06.94zm-11 1L8.5 8.5l.94-2.06 2.06-.94-2.06-.94L8.5 2.5l-.94 2.06-2.06.94zm10 10l.94 2.06.94-2.06 2.06-.94-2.06-.94-.94-2.06-.94 2.06-2.06.94z\"/><path d=\"M17.41 7.96l-1.37-1.37c-.4-.4-.92-.59-1.43-.59-.52 0-1.04.2-1.43.59L10.3 9.45l-7.72 7.72c-.78.78-.78 2.05 0 2.83L4 21.41c.39.39.9.59 1.41.59.51 0 1.02-.2 1.41-.59l7.78-7.78 2.81-2.81c.8-.78.8-2.07 0-2.86zM5.41 20L4 18.59l7.72-7.72 1.47 1.35L5.41 20z\"/>\n",
              "  </svg>\n",
              "      </button>\n",
              "      \n",
              "  <style>\n",
              "    .colab-df-container {\n",
              "      display:flex;\n",
              "      flex-wrap:wrap;\n",
              "      gap: 12px;\n",
              "    }\n",
              "\n",
              "    .colab-df-convert {\n",
              "      background-color: #E8F0FE;\n",
              "      border: none;\n",
              "      border-radius: 50%;\n",
              "      cursor: pointer;\n",
              "      display: none;\n",
              "      fill: #1967D2;\n",
              "      height: 32px;\n",
              "      padding: 0 0 0 0;\n",
              "      width: 32px;\n",
              "    }\n",
              "\n",
              "    .colab-df-convert:hover {\n",
              "      background-color: #E2EBFA;\n",
              "      box-shadow: 0px 1px 2px rgba(60, 64, 67, 0.3), 0px 1px 3px 1px rgba(60, 64, 67, 0.15);\n",
              "      fill: #174EA6;\n",
              "    }\n",
              "\n",
              "    [theme=dark] .colab-df-convert {\n",
              "      background-color: #3B4455;\n",
              "      fill: #D2E3FC;\n",
              "    }\n",
              "\n",
              "    [theme=dark] .colab-df-convert:hover {\n",
              "      background-color: #434B5C;\n",
              "      box-shadow: 0px 1px 3px 1px rgba(0, 0, 0, 0.15);\n",
              "      filter: drop-shadow(0px 1px 2px rgba(0, 0, 0, 0.3));\n",
              "      fill: #FFFFFF;\n",
              "    }\n",
              "  </style>\n",
              "\n",
              "      <script>\n",
              "        const buttonEl =\n",
              "          document.querySelector('#df-aa6fbc5b-f616-41c5-8eaa-21a8f1216d59 button.colab-df-convert');\n",
              "        buttonEl.style.display =\n",
              "          google.colab.kernel.accessAllowed ? 'block' : 'none';\n",
              "\n",
              "        async function convertToInteractive(key) {\n",
              "          const element = document.querySelector('#df-aa6fbc5b-f616-41c5-8eaa-21a8f1216d59');\n",
              "          const dataTable =\n",
              "            await google.colab.kernel.invokeFunction('convertToInteractive',\n",
              "                                                     [key], {});\n",
              "          if (!dataTable) return;\n",
              "\n",
              "          const docLinkHtml = 'Like what you see? Visit the ' +\n",
              "            '<a target=\"_blank\" href=https://colab.research.google.com/notebooks/data_table.ipynb>data table notebook</a>'\n",
              "            + ' to learn more about interactive tables.';\n",
              "          element.innerHTML = '';\n",
              "          dataTable['output_type'] = 'display_data';\n",
              "          await google.colab.output.renderOutput(dataTable, element);\n",
              "          const docLink = document.createElement('div');\n",
              "          docLink.innerHTML = docLinkHtml;\n",
              "          element.appendChild(docLink);\n",
              "        }\n",
              "      </script>\n",
              "    </div>\n",
              "  </div>\n",
              "  "
            ]
          },
          "metadata": {},
          "execution_count": 24
        }
      ]
    },
    {
      "cell_type": "code",
      "source": [],
      "metadata": {
        "id": "hVFEAnRfrD9_"
      },
      "execution_count": null,
      "outputs": []
    },
    {
      "cell_type": "markdown",
      "source": [
        "Taking out the mean of the start_hours"
      ],
      "metadata": {
        "id": "cks_LNEZrEhH"
      }
    },
    {
      "cell_type": "code",
      "source": [
        "dfss['start_hours'].mean()"
      ],
      "metadata": {
        "colab": {
          "base_uri": "https://localhost:8080/"
        },
        "id": "v1-i5RXgpOXY",
        "outputId": "f005c0db-2712-45c3-b010-8bb11f42b269"
      },
      "execution_count": null,
      "outputs": [
        {
          "output_type": "execute_result",
          "data": {
            "text/plain": [
              "14.221796959632165"
            ]
          },
          "metadata": {},
          "execution_count": 25
        }
      ]
    },
    {
      "cell_type": "code",
      "source": [],
      "metadata": {
        "id": "V7iq1n5orJZm"
      },
      "execution_count": null,
      "outputs": []
    },
    {
      "cell_type": "markdown",
      "source": [
        "Plotting the graph which represent at what time most of the riders start riding the bike.\n",
        "\n",
        "***Note:*** Its not the mean but count"
      ],
      "metadata": {
        "id": "U5WbqWJNrJ5Y"
      }
    },
    {
      "cell_type": "code",
      "source": [
        "dfss.start_hours.value_counts().sort_index().plot()"
      ],
      "metadata": {
        "colab": {
          "base_uri": "https://localhost:8080/",
          "height": 287
        },
        "id": "vg-PD71VhKTi",
        "outputId": "6377709d-98af-41ff-ae38-031b037e483e"
      },
      "execution_count": null,
      "outputs": [
        {
          "output_type": "execute_result",
          "data": {
            "text/plain": [
              "<matplotlib.axes._subplots.AxesSubplot at 0x7f9942e388b0>"
            ]
          },
          "metadata": {},
          "execution_count": 26
        },
        {
          "output_type": "display_data",
          "data": {
            "text/plain": [
              "<Figure size 432x288 with 1 Axes>"
            ],
            "image/png": "[encoded data removed]"
          },
          "metadata": {
            "needs_background": "light"
          }
        }
      ]
    },
    {
      "cell_type": "code",
      "source": [],
      "metadata": {
        "id": "8vBoX7jTsJTI"
      },
      "execution_count": null,
      "outputs": []
    },
    {
      "cell_type": "code",
      "source": [
        "dfssg7= pd.crosstab(dfss.days_of_week, dfss.member_casual, values= dfss.start_hours , aggfunc = 'mean')\n",
        "dfssg7"
      ],
      "metadata": {
        "colab": {
          "base_uri": "https://localhost:8080/",
          "height": 300
        },
        "id": "I57lgjvxhQef",
        "outputId": "044e1ce0-4c3a-4a65-9e78-86f4a7a53253"
      },
      "execution_count": null,
      "outputs": [
        {
          "output_type": "execute_result",
          "data": {
            "text/plain": [
              "member_casual     casual     member\n",
              "days_of_week                       \n",
              "1              13.433009  13.640035\n",
              "2              14.610442  14.088983\n",
              "3              14.825261  13.955646\n",
              "4              15.075821  14.090232\n",
              "5              15.114898  14.122632\n",
              "6              14.917345  14.090655\n",
              "7              14.310973  13.903610"
            ],
            "text/html": [
              "\n",
              "  <div id=\"df-21f90dbe-35dc-4453-a898-f71fd1fb7eee\">\n",
              "    <div class=\"colab-df-container\">\n",
              "      <div>\n",
              "<style scoped>\n",
              "    .dataframe tbody tr th:only-of-type {\n",
              "        vertical-align: middle;\n",
              "    }\n",
              "\n",
              "    .dataframe tbody tr th {\n",
              "        vertical-align: top;\n",
              "    }\n",
              "\n",
              "    .dataframe thead th {\n",
              "        text-align: right;\n",
              "    }\n",
              "</style>\n",
              "<table border=\"1\" class=\"dataframe\">\n",
              "  <thead>\n",
              "    <tr style=\"text-align: right;\">\n",
              "      <th>member_casual</th>\n",
              "      <th>casual</th>\n",
              "      <th>member</th>\n",
              "    </tr>\n",
              "    <tr>\n",
              "      <th>days_of_week</th>\n",
              "      <th></th>\n",
              "      <th></th>\n",
              "    </tr>\n",
              "  </thead>\n",
              "  <tbody>\n",
              "    <tr>\n",
              "      <th>1</th>\n",
              "      <td>13.433009</td>\n",
              "      <td>13.640035</td>\n",
              "    </tr>\n",
              "    <tr>\n",
              "      <th>2</th>\n",
              "      <td>14.610442</td>\n",
              "      <td>14.088983</td>\n",
              "    </tr>\n",
              "    <tr>\n",
              "      <th>3</th>\n",
              "      <td>14.825261</td>\n",
              "      <td>13.955646</td>\n",
              "    </tr>\n",
              "    <tr>\n",
              "      <th>4</th>\n",
              "      <td>15.075821</td>\n",
              "      <td>14.090232</td>\n",
              "    </tr>\n",
              "    <tr>\n",
              "      <th>5</th>\n",
              "      <td>15.114898</td>\n",
              "      <td>14.122632</td>\n",
              "    </tr>\n",
              "    <tr>\n",
              "      <th>6</th>\n",
              "      <td>14.917345</td>\n",
              "      <td>14.090655</td>\n",
              "    </tr>\n",
              "    <tr>\n",
              "      <th>7</th>\n",
              "      <td>14.310973</td>\n",
              "      <td>13.903610</td>\n",
              "    </tr>\n",
              "  </tbody>\n",
              "</table>\n",
              "</div>\n",
              "      <button class=\"colab-df-convert\" onclick=\"convertToInteractive('df-21f90dbe-35dc-4453-a898-f71fd1fb7eee')\"\n",
              "              title=\"Convert this dataframe to an interactive table.\"\n",
              "              style=\"display:none;\">\n",
              "        \n",
              "  <svg xmlns=\"http://www.w3.org/2000/svg\" height=\"24px\"viewBox=\"0 0 24 24\"\n",
              "       width=\"24px\">\n",
              "    <path d=\"M0 0h24v24H0V0z\" fill=\"none\"/>\n",
              "    <path d=\"M18.56 5.44l.94 2.06.94-2.06 2.06-.94-2.06-.94-.94-2.06-.94 2.06-2.06.94zm-11 1L8.5 8.5l.94-2.06 2.06-.94-2.06-.94L8.5 2.5l-.94 2.06-2.06.94zm10 10l.94 2.06.94-2.06 2.06-.94-2.06-.94-.94-2.06-.94 2.06-2.06.94z\"/><path d=\"M17.41 7.96l-1.37-1.37c-.4-.4-.92-.59-1.43-.59-.52 0-1.04.2-1.43.59L10.3 9.45l-7.72 7.72c-.78.78-.78 2.05 0 2.83L4 21.41c.39.39.9.59 1.41.59.51 0 1.02-.2 1.41-.59l7.78-7.78 2.81-2.81c.8-.78.8-2.07 0-2.86zM5.41 20L4 18.59l7.72-7.72 1.47 1.35L5.41 20z\"/>\n",
              "  </svg>\n",
              "      </button>\n",
              "      \n",
              "  <style>\n",
              "    .colab-df-container {\n",
              "      display:flex;\n",
              "      flex-wrap:wrap;\n",
              "      gap: 12px;\n",
              "    }\n",
              "\n",
              "    .colab-df-convert {\n",
              "      background-color: #E8F0FE;\n",
              "      border: none;\n",
              "      border-radius: 50%;\n",
              "      cursor: pointer;\n",
              "      display: none;\n",
              "      fill: #1967D2;\n",
              "      height: 32px;\n",
              "      padding: 0 0 0 0;\n",
              "      width: 32px;\n",
              "    }\n",
              "\n",
              "    .colab-df-convert:hover {\n",
              "      background-color: #E2EBFA;\n",
              "      box-shadow: 0px 1px 2px rgba(60, 64, 67, 0.3), 0px 1px 3px 1px rgba(60, 64, 67, 0.15);\n",
              "      fill: #174EA6;\n",
              "    }\n",
              "\n",
              "    [theme=dark] .colab-df-convert {\n",
              "      background-color: #3B4455;\n",
              "      fill: #D2E3FC;\n",
              "    }\n",
              "\n",
              "    [theme=dark] .colab-df-convert:hover {\n",
              "      background-color: #434B5C;\n",
              "      box-shadow: 0px 1px 3px 1px rgba(0, 0, 0, 0.15);\n",
              "      filter: drop-shadow(0px 1px 2px rgba(0, 0, 0, 0.3));\n",
              "      fill: #FFFFFF;\n",
              "    }\n",
              "  </style>\n",
              "\n",
              "      <script>\n",
              "        const buttonEl =\n",
              "          document.querySelector('#df-21f90dbe-35dc-4453-a898-f71fd1fb7eee button.colab-df-convert');\n",
              "        buttonEl.style.display =\n",
              "          google.colab.kernel.accessAllowed ? 'block' : 'none';\n",
              "\n",
              "        async function convertToInteractive(key) {\n",
              "          const element = document.querySelector('#df-21f90dbe-35dc-4453-a898-f71fd1fb7eee');\n",
              "          const dataTable =\n",
              "            await google.colab.kernel.invokeFunction('convertToInteractive',\n",
              "                                                     [key], {});\n",
              "          if (!dataTable) return;\n",
              "\n",
              "          const docLinkHtml = 'Like what you see? Visit the ' +\n",
              "            '<a target=\"_blank\" href=https://colab.research.google.com/notebooks/data_table.ipynb>data table notebook</a>'\n",
              "            + ' to learn more about interactive tables.';\n",
              "          element.innerHTML = '';\n",
              "          dataTable['output_type'] = 'display_data';\n",
              "          await google.colab.output.renderOutput(dataTable, element);\n",
              "          const docLink = document.createElement('div');\n",
              "          docLink.innerHTML = docLinkHtml;\n",
              "          element.appendChild(docLink);\n",
              "        }\n",
              "      </script>\n",
              "    </div>\n",
              "  </div>\n",
              "  "
            ]
          },
          "metadata": {},
          "execution_count": 27
        }
      ]
    },
    {
      "cell_type": "code",
      "source": [
        "dfssg7.plot.line()"
      ],
      "metadata": {
        "colab": {
          "base_uri": "https://localhost:8080/",
          "height": 298
        },
        "id": "Dk6gVA4UhaO0",
        "outputId": "9a085509-7bd9-46a7-8817-878de122b4ff"
      },
      "execution_count": null,
      "outputs": [
        {
          "output_type": "execute_result",
          "data": {
            "text/plain": [
              "<matplotlib.axes._subplots.AxesSubplot at 0x7f99274955b0>"
            ]
          },
          "metadata": {},
          "execution_count": 28
        },
        {
          "output_type": "display_data",
          "data": {
            "text/plain": [
              "<Figure size 432x288 with 1 Axes>"
            ],
            "image/png": "[encoded data removed]"
          },
          "metadata": {
            "needs_background": "light"
          }
        }
      ]
    },
    {
      "cell_type": "markdown",
      "source": [
        "### ***dfssg7 graph***\n",
        "\n",
        "- This graph represent that at what time and which day, casual and member start riding.\n",
        "\n",
        "- we see that casual mostly start riding around 2.30-3 pm in the afternoon during most(Wed,thurs,fri) of the days.\n",
        "\n",
        "- we see that member mostly start riding around 1.30-2 pm in the afternoon almost all the days."
      ],
      "metadata": {
        "id": "Bu5U9ItDsZgw"
      }
    },
    {
      "cell_type": "code",
      "source": [],
      "metadata": {
        "id": "w3l2bT7HsZDn"
      },
      "execution_count": null,
      "outputs": []
    },
    {
      "cell_type": "code",
      "source": [],
      "metadata": {
        "id": "1uoMtyZe-OUU"
      },
      "execution_count": null,
      "outputs": []
    },
    {
      "cell_type": "markdown",
      "source": [
        "Adding the column of end_hours_min which will represent the hour of when the rider started riding the bike\n"
      ],
      "metadata": {
        "id": "ma8ggPc_wka-"
      }
    },
    {
      "cell_type": "code",
      "source": [
        "dfss['end_hours_min']= dfss.ended_at.dt.strftime('%H:%M')\n",
        "dfss"
      ],
      "metadata": {
        "colab": {
          "base_uri": "https://localhost:8080/",
          "height": 852
        },
        "id": "fJfG21A6hfSJ",
        "outputId": "b6f3a3d3-1837-434c-e93b-5848305605c7"
      },
      "execution_count": null,
      "outputs": [
        {
          "output_type": "execute_result",
          "data": {
            "text/plain": [
              "                  ride_id  rideable_type          started_at  \\\n",
              "0        46F8167220E4431F  electric_bike 2021-12-07 15:06:00   \n",
              "1        73A77762838B32FD  electric_bike 2021-12-11 03:43:00   \n",
              "2        4CF42452054F59C5  electric_bike 2021-12-15 23:10:00   \n",
              "3        3278BA87BF698339   classic_bike 2021-12-26 16:16:00   \n",
              "4        6FF54232576A3B73  electric_bike 2021-12-30 11:31:00   \n",
              "...                   ...            ...                 ...   \n",
              "5733446  C349E243A9BAA6F7  electric_bike 2022-11-25 11:19:00   \n",
              "5733447  B0B4E85DA43A9194   classic_bike 2022-11-22 16:57:00   \n",
              "5733448  8D148DD47B59530B   classic_bike 2022-11-06 13:04:00   \n",
              "5733449  0D1170BA18FD33D1   classic_bike 2022-11-06 09:41:00   \n",
              "5733450  09B20DC75B5EA1E0  electric_bike 2022-11-26 11:59:00   \n",
              "\n",
              "                   ended_at ride_length  days_of_week member_casual  \\\n",
              "0       2021-12-07 15:13:00    00:07:35             3        member   \n",
              "1       2021-12-11 04:10:00    00:26:54             7        casual   \n",
              "2       2021-12-15 23:23:00    00:12:46             4        member   \n",
              "3       2021-12-26 16:30:00    00:14:43             1        member   \n",
              "4       2021-12-30 11:51:00    00:20:16             5        member   \n",
              "...                     ...         ...           ...           ...   \n",
              "5733446 2022-11-25 11:31:00    00:11:58             6        member   \n",
              "5733447 2022-11-22 17:31:00    00:33:36             3        casual   \n",
              "5733448 2022-11-06 13:13:00    00:09:28             1        casual   \n",
              "5733449 2022-11-06 15:17:00    05:35:48             1        casual   \n",
              "5733450 2022-11-26 12:31:00    00:31:36             7        casual   \n",
              "\n",
              "                    start_station_name start_station_id  \\\n",
              "0             Laflin St & Cullerton St            13307   \n",
              "1                LaSalle Dr & Huron St     KP1705001026   \n",
              "2         Halsted St & North Branch St     KA1504000117   \n",
              "3         Halsted St & North Branch St     KA1504000117   \n",
              "4             Leavitt St & Chicago Ave            18058   \n",
              "...                                ...              ...   \n",
              "5733446         Wabash Ave & Grand Ave     TA1307000117   \n",
              "5733447     Franklin St & Jackson Blvd     TA1305000025   \n",
              "5733448  Michigan Ave & Ida B Wells Dr     TA1305000010   \n",
              "5733449           Halsted St & 18th St            13099   \n",
              "5733450  Michigan Ave & Ida B Wells Dr     TA1305000010   \n",
              "\n",
              "                       end_station_name end_station_id  start_lat  start_lng  \\\n",
              "0                   Morgan St & Polk St   TA1307000130  41.854833 -87.663660   \n",
              "1            Clarendon Ave & Leland Ave   TA1307000119  41.894405 -87.632331   \n",
              "2                  Broadway & Barry Ave          13137  41.899357 -87.648522   \n",
              "3                 LaSalle Dr & Huron St   KP1705001026  41.899390 -87.648545   \n",
              "4                Clark St & Drummond Pl   TA1307000142  41.895579 -87.682024   \n",
              "...                                 ...            ...        ...        ...   \n",
              "5733446                             NaN            NaN  41.891836 -87.626806   \n",
              "5733447  Sheffield Ave & Wrightwood Ave   TA1309000023  41.877708 -87.635321   \n",
              "5733448                  Shedd Aquarium          15544  41.876243 -87.624426   \n",
              "5733449                  Shedd Aquarium          15544  41.857506 -87.645991   \n",
              "5733450                  Shedd Aquarium          15544  41.876272 -87.624576   \n",
              "\n",
              "           end_lat    end_lng ride-length        duration  duration_min  \\\n",
              "0        41.871969 -87.650965         NaN 0 days 00:07:00           7.0   \n",
              "1        41.967968 -87.650001         NaN 0 days 00:27:00          27.0   \n",
              "2        41.937582 -87.644098         NaN 0 days 00:13:00          13.0   \n",
              "3        41.894877 -87.632326         NaN 0 days 00:14:00          14.0   \n",
              "4        41.931248 -87.644336         NaN 0 days 00:20:00          20.0   \n",
              "...            ...        ...         ...             ...           ...   \n",
              "5733446  41.890000 -87.620000         NaN 0 days 00:12:00          12.0   \n",
              "5733447  41.928712 -87.653833         NaN 0 days 00:34:00          34.0   \n",
              "5733448  41.867226 -87.615355         NaN 0 days 00:09:00           9.0   \n",
              "5733449  41.867226 -87.615355         NaN 0 days 05:36:00         336.0   \n",
              "5733450  41.867226 -87.615355         NaN 0 days 00:32:00          32.0   \n",
              "\n",
              "         start_hours end_hours_min  \n",
              "0                 15         15:13  \n",
              "1                  3         04:10  \n",
              "2                 23         23:23  \n",
              "3                 16         16:30  \n",
              "4                 11         11:51  \n",
              "...              ...           ...  \n",
              "5733446           11         11:31  \n",
              "5733447           16         17:31  \n",
              "5733448           13         13:13  \n",
              "5733449            9         15:17  \n",
              "5733450           11         12:31  \n",
              "\n",
              "[5733451 rows x 20 columns]"
            ],
            "text/html": [
              "\n",
              "  <div id=\"df-815673f9-6f8e-4b14-b759-dd4eca6790b0\">\n",
              "    <div class=\"colab-df-container\">\n",
              "      <div>\n",
              "<style scoped>\n",
              "    .dataframe tbody tr th:only-of-type {\n",
              "        vertical-align: middle;\n",
              "    }\n",
              "\n",
              "    .dataframe tbody tr th {\n",
              "        vertical-align: top;\n",
              "    }\n",
              "\n",
              "    .dataframe thead th {\n",
              "        text-align: right;\n",
              "    }\n",
              "</style>\n",
              "<table border=\"1\" class=\"dataframe\">\n",
              "  <thead>\n",
              "    <tr style=\"text-align: right;\">\n",
              "      <th></th>\n",
              "      <th>ride_id</th>\n",
              "      <th>rideable_type</th>\n",
              "      <th>started_at</th>\n",
              "      <th>ended_at</th>\n",
              "      <th>ride_length</th>\n",
              "      <th>days_of_week</th>\n",
              "      <th>member_casual</th>\n",
              "      <th>start_station_name</th>\n",
              "      <th>start_station_id</th>\n",
              "      <th>end_station_name</th>\n",
              "      <th>end_station_id</th>\n",
              "      <th>start_lat</th>\n",
              "      <th>start_lng</th>\n",
              "      <th>end_lat</th>\n",
              "      <th>end_lng</th>\n",
              "      <th>ride-length</th>\n",
              "      <th>duration</th>\n",
              "      <th>duration_min</th>\n",
              "      <th>start_hours</th>\n",
              "      <th>end_hours_min</th>\n",
              "    </tr>\n",
              "  </thead>\n",
              "  <tbody>\n",
              "    <tr>\n",
              "      <th>0</th>\n",
              "      <td>46F8167220E4431F</td>\n",
              "      <td>electric_bike</td>\n",
              "      <td>2021-12-07 15:06:00</td>\n",
              "      <td>2021-12-07 15:13:00</td>\n",
              "      <td>00:07:35</td>\n",
              "      <td>3</td>\n",
              "      <td>member</td>\n",
              "      <td>Laflin St &amp; Cullerton St</td>\n",
              "      <td>13307</td>\n",
              "      <td>Morgan St &amp; Polk St</td>\n",
              "      <td>TA1307000130</td>\n",
              "      <td>41.854833</td>\n",
              "      <td>-87.663660</td>\n",
              "      <td>41.871969</td>\n",
              "      <td>-87.650965</td>\n",
              "      <td>NaN</td>\n",
              "      <td>0 days 00:07:00</td>\n",
              "      <td>7.0</td>\n",
              "      <td>15</td>\n",
              "      <td>15:13</td>\n",
              "    </tr>\n",
              "    <tr>\n",
              "      <th>1</th>\n",
              "      <td>73A77762838B32FD</td>\n",
              "      <td>electric_bike</td>\n",
              "      <td>2021-12-11 03:43:00</td>\n",
              "      <td>2021-12-11 04:10:00</td>\n",
              "      <td>00:26:54</td>\n",
              "      <td>7</td>\n",
              "      <td>casual</td>\n",
              "      <td>LaSalle Dr &amp; Huron St</td>\n",
              "      <td>KP1705001026</td>\n",
              "      <td>Clarendon Ave &amp; Leland Ave</td>\n",
              "      <td>TA1307000119</td>\n",
              "      <td>41.894405</td>\n",
              "      <td>-87.632331</td>\n",
              "      <td>41.967968</td>\n",
              "      <td>-87.650001</td>\n",
              "      <td>NaN</td>\n",
              "      <td>0 days 00:27:00</td>\n",
              "      <td>27.0</td>\n",
              "      <td>3</td>\n",
              "      <td>04:10</td>\n",
              "    </tr>\n",
              "    <tr>\n",
              "      <th>2</th>\n",
              "      <td>4CF42452054F59C5</td>\n",
              "      <td>electric_bike</td>\n",
              "      <td>2021-12-15 23:10:00</td>\n",
              "      <td>2021-12-15 23:23:00</td>\n",
              "      <td>00:12:46</td>\n",
              "      <td>4</td>\n",
              "      <td>member</td>\n",
              "      <td>Halsted St &amp; North Branch St</td>\n",
              "      <td>KA1504000117</td>\n",
              "      <td>Broadway &amp; Barry Ave</td>\n",
              "      <td>13137</td>\n",
              "      <td>41.899357</td>\n",
              "      <td>-87.648522</td>\n",
              "      <td>41.937582</td>\n",
              "      <td>-87.644098</td>\n",
              "      <td>NaN</td>\n",
              "      <td>0 days 00:13:00</td>\n",
              "      <td>13.0</td>\n",
              "      <td>23</td>\n",
              "      <td>23:23</td>\n",
              "    </tr>\n",
              "    <tr>\n",
              "      <th>3</th>\n",
              "      <td>3278BA87BF698339</td>\n",
              "      <td>classic_bike</td>\n",
              "      <td>2021-12-26 16:16:00</td>\n",
              "      <td>2021-12-26 16:30:00</td>\n",
              "      <td>00:14:43</td>\n",
              "      <td>1</td>\n",
              "      <td>member</td>\n",
              "      <td>Halsted St &amp; North Branch St</td>\n",
              "      <td>KA1504000117</td>\n",
              "      <td>LaSalle Dr &amp; Huron St</td>\n",
              "      <td>KP1705001026</td>\n",
              "      <td>41.899390</td>\n",
              "      <td>-87.648545</td>\n",
              "      <td>41.894877</td>\n",
              "      <td>-87.632326</td>\n",
              "      <td>NaN</td>\n",
              "      <td>0 days 00:14:00</td>\n",
              "      <td>14.0</td>\n",
              "      <td>16</td>\n",
              "      <td>16:30</td>\n",
              "    </tr>\n",
              "    <tr>\n",
              "      <th>4</th>\n",
              "      <td>6FF54232576A3B73</td>\n",
              "      <td>electric_bike</td>\n",
              "      <td>2021-12-30 11:31:00</td>\n",
              "      <td>2021-12-30 11:51:00</td>\n",
              "      <td>00:20:16</td>\n",
              "      <td>5</td>\n",
              "      <td>member</td>\n",
              "      <td>Leavitt St &amp; Chicago Ave</td>\n",
              "      <td>18058</td>\n",
              "      <td>Clark St &amp; Drummond Pl</td>\n",
              "      <td>TA1307000142</td>\n",
              "      <td>41.895579</td>\n",
              "      <td>-87.682024</td>\n",
              "      <td>41.931248</td>\n",
              "      <td>-87.644336</td>\n",
              "      <td>NaN</td>\n",
              "      <td>0 days 00:20:00</td>\n",
              "      <td>20.0</td>\n",
              "      <td>11</td>\n",
              "      <td>11:51</td>\n",
              "    </tr>\n",
              "    <tr>\n",
              "      <th>...</th>\n",
              "      <td>...</td>\n",
              "      <td>...</td>\n",
              "      <td>...</td>\n",
              "      <td>...</td>\n",
              "      <td>...</td>\n",
              "      <td>...</td>\n",
              "      <td>...</td>\n",
              "      <td>...</td>\n",
              "      <td>...</td>\n",
              "      <td>...</td>\n",
              "      <td>...</td>\n",
              "      <td>...</td>\n",
              "      <td>...</td>\n",
              "      <td>...</td>\n",
              "      <td>...</td>\n",
              "      <td>...</td>\n",
              "      <td>...</td>\n",
              "      <td>...</td>\n",
              "      <td>...</td>\n",
              "      <td>...</td>\n",
              "    </tr>\n",
              "    <tr>\n",
              "      <th>5733446</th>\n",
              "      <td>C349E243A9BAA6F7</td>\n",
              "      <td>electric_bike</td>\n",
              "      <td>2022-11-25 11:19:00</td>\n",
              "      <td>2022-11-25 11:31:00</td>\n",
              "      <td>00:11:58</td>\n",
              "      <td>6</td>\n",
              "      <td>member</td>\n",
              "      <td>Wabash Ave &amp; Grand Ave</td>\n",
              "      <td>TA1307000117</td>\n",
              "      <td>NaN</td>\n",
              "      <td>NaN</td>\n",
              "      <td>41.891836</td>\n",
              "      <td>-87.626806</td>\n",
              "      <td>41.890000</td>\n",
              "      <td>-87.620000</td>\n",
              "      <td>NaN</td>\n",
              "      <td>0 days 00:12:00</td>\n",
              "      <td>12.0</td>\n",
              "      <td>11</td>\n",
              "      <td>11:31</td>\n",
              "    </tr>\n",
              "    <tr>\n",
              "      <th>5733447</th>\n",
              "      <td>B0B4E85DA43A9194</td>\n",
              "      <td>classic_bike</td>\n",
              "      <td>2022-11-22 16:57:00</td>\n",
              "      <td>2022-11-22 17:31:00</td>\n",
              "      <td>00:33:36</td>\n",
              "      <td>3</td>\n",
              "      <td>casual</td>\n",
              "      <td>Franklin St &amp; Jackson Blvd</td>\n",
              "      <td>TA1305000025</td>\n",
              "      <td>Sheffield Ave &amp; Wrightwood Ave</td>\n",
              "      <td>TA1309000023</td>\n",
              "      <td>41.877708</td>\n",
              "      <td>-87.635321</td>\n",
              "      <td>41.928712</td>\n",
              "      <td>-87.653833</td>\n",
              "      <td>NaN</td>\n",
              "      <td>0 days 00:34:00</td>\n",
              "      <td>34.0</td>\n",
              "      <td>16</td>\n",
              "      <td>17:31</td>\n",
              "    </tr>\n",
              "    <tr>\n",
              "      <th>5733448</th>\n",
              "      <td>8D148DD47B59530B</td>\n",
              "      <td>classic_bike</td>\n",
              "      <td>2022-11-06 13:04:00</td>\n",
              "      <td>2022-11-06 13:13:00</td>\n",
              "      <td>00:09:28</td>\n",
              "      <td>1</td>\n",
              "      <td>casual</td>\n",
              "      <td>Michigan Ave &amp; Ida B Wells Dr</td>\n",
              "      <td>TA1305000010</td>\n",
              "      <td>Shedd Aquarium</td>\n",
              "      <td>15544</td>\n",
              "      <td>41.876243</td>\n",
              "      <td>-87.624426</td>\n",
              "      <td>41.867226</td>\n",
              "      <td>-87.615355</td>\n",
              "      <td>NaN</td>\n",
              "      <td>0 days 00:09:00</td>\n",
              "      <td>9.0</td>\n",
              "      <td>13</td>\n",
              "      <td>13:13</td>\n",
              "    </tr>\n",
              "    <tr>\n",
              "      <th>5733449</th>\n",
              "      <td>0D1170BA18FD33D1</td>\n",
              "      <td>classic_bike</td>\n",
              "      <td>2022-11-06 09:41:00</td>\n",
              "      <td>2022-11-06 15:17:00</td>\n",
              "      <td>05:35:48</td>\n",
              "      <td>1</td>\n",
              "      <td>casual</td>\n",
              "      <td>Halsted St &amp; 18th St</td>\n",
              "      <td>13099</td>\n",
              "      <td>Shedd Aquarium</td>\n",
              "      <td>15544</td>\n",
              "      <td>41.857506</td>\n",
              "      <td>-87.645991</td>\n",
              "      <td>41.867226</td>\n",
              "      <td>-87.615355</td>\n",
              "      <td>NaN</td>\n",
              "      <td>0 days 05:36:00</td>\n",
              "      <td>336.0</td>\n",
              "      <td>9</td>\n",
              "      <td>15:17</td>\n",
              "    </tr>\n",
              "    <tr>\n",
              "      <th>5733450</th>\n",
              "      <td>09B20DC75B5EA1E0</td>\n",
              "      <td>electric_bike</td>\n",
              "      <td>2022-11-26 11:59:00</td>\n",
              "      <td>2022-11-26 12:31:00</td>\n",
              "      <td>00:31:36</td>\n",
              "      <td>7</td>\n",
              "      <td>casual</td>\n",
              "      <td>Michigan Ave &amp; Ida B Wells Dr</td>\n",
              "      <td>TA1305000010</td>\n",
              "      <td>Shedd Aquarium</td>\n",
              "      <td>15544</td>\n",
              "      <td>41.876272</td>\n",
              "      <td>-87.624576</td>\n",
              "      <td>41.867226</td>\n",
              "      <td>-87.615355</td>\n",
              "      <td>NaN</td>\n",
              "      <td>0 days 00:32:00</td>\n",
              "      <td>32.0</td>\n",
              "      <td>11</td>\n",
              "      <td>12:31</td>\n",
              "    </tr>\n",
              "  </tbody>\n",
              "</table>\n",
              "<p>5733451 rows × 20 columns</p>\n",
              "</div>\n",
              "      <button class=\"colab-df-convert\" onclick=\"convertToInteractive('df-815673f9-6f8e-4b14-b759-dd4eca6790b0')\"\n",
              "              title=\"Convert this dataframe to an interactive table.\"\n",
              "              style=\"display:none;\">\n",
              "        \n",
              "  <svg xmlns=\"http://www.w3.org/2000/svg\" height=\"24px\"viewBox=\"0 0 24 24\"\n",
              "       width=\"24px\">\n",
              "    <path d=\"M0 0h24v24H0V0z\" fill=\"none\"/>\n",
              "    <path d=\"M18.56 5.44l.94 2.06.94-2.06 2.06-.94-2.06-.94-.94-2.06-.94 2.06-2.06.94zm-11 1L8.5 8.5l.94-2.06 2.06-.94-2.06-.94L8.5 2.5l-.94 2.06-2.06.94zm10 10l.94 2.06.94-2.06 2.06-.94-2.06-.94-.94-2.06-.94 2.06-2.06.94z\"/><path d=\"M17.41 7.96l-1.37-1.37c-.4-.4-.92-.59-1.43-.59-.52 0-1.04.2-1.43.59L10.3 9.45l-7.72 7.72c-.78.78-.78 2.05 0 2.83L4 21.41c.39.39.9.59 1.41.59.51 0 1.02-.2 1.41-.59l7.78-7.78 2.81-2.81c.8-.78.8-2.07 0-2.86zM5.41 20L4 18.59l7.72-7.72 1.47 1.35L5.41 20z\"/>\n",
              "  </svg>\n",
              "      </button>\n",
              "      \n",
              "  <style>\n",
              "    .colab-df-container {\n",
              "      display:flex;\n",
              "      flex-wrap:wrap;\n",
              "      gap: 12px;\n",
              "    }\n",
              "\n",
              "    .colab-df-convert {\n",
              "      background-color: #E8F0FE;\n",
              "      border: none;\n",
              "      border-radius: 50%;\n",
              "      cursor: pointer;\n",
              "      display: none;\n",
              "      fill: #1967D2;\n",
              "      height: 32px;\n",
              "      padding: 0 0 0 0;\n",
              "      width: 32px;\n",
              "    }\n",
              "\n",
              "    .colab-df-convert:hover {\n",
              "      background-color: #E2EBFA;\n",
              "      box-shadow: 0px 1px 2px rgba(60, 64, 67, 0.3), 0px 1px 3px 1px rgba(60, 64, 67, 0.15);\n",
              "      fill: #174EA6;\n",
              "    }\n",
              "\n",
              "    [theme=dark] .colab-df-convert {\n",
              "      background-color: #3B4455;\n",
              "      fill: #D2E3FC;\n",
              "    }\n",
              "\n",
              "    [theme=dark] .colab-df-convert:hover {\n",
              "      background-color: #434B5C;\n",
              "      box-shadow: 0px 1px 3px 1px rgba(0, 0, 0, 0.15);\n",
              "      filter: drop-shadow(0px 1px 2px rgba(0, 0, 0, 0.3));\n",
              "      fill: #FFFFFF;\n",
              "    }\n",
              "  </style>\n",
              "\n",
              "      <script>\n",
              "        const buttonEl =\n",
              "          document.querySelector('#df-815673f9-6f8e-4b14-b759-dd4eca6790b0 button.colab-df-convert');\n",
              "        buttonEl.style.display =\n",
              "          google.colab.kernel.accessAllowed ? 'block' : 'none';\n",
              "\n",
              "        async function convertToInteractive(key) {\n",
              "          const element = document.querySelector('#df-815673f9-6f8e-4b14-b759-dd4eca6790b0');\n",
              "          const dataTable =\n",
              "            await google.colab.kernel.invokeFunction('convertToInteractive',\n",
              "                                                     [key], {});\n",
              "          if (!dataTable) return;\n",
              "\n",
              "          const docLinkHtml = 'Like what you see? Visit the ' +\n",
              "            '<a target=\"_blank\" href=https://colab.research.google.com/notebooks/data_table.ipynb>data table notebook</a>'\n",
              "            + ' to learn more about interactive tables.';\n",
              "          element.innerHTML = '';\n",
              "          dataTable['output_type'] = 'display_data';\n",
              "          await google.colab.output.renderOutput(dataTable, element);\n",
              "          const docLink = document.createElement('div');\n",
              "          docLink.innerHTML = docLinkHtml;\n",
              "          element.appendChild(docLink);\n",
              "        }\n",
              "      </script>\n",
              "    </div>\n",
              "  </div>\n",
              "  "
            ]
          },
          "metadata": {},
          "execution_count": 29
        }
      ]
    },
    {
      "cell_type": "code",
      "source": [
        "dfss.end_hours_min.value_counts().plot()"
      ],
      "metadata": {
        "colab": {
          "base_uri": "https://localhost:8080/",
          "height": 283
        },
        "id": "uwg_LrfZhrQ2",
        "outputId": "6275de26-4329-4108-f484-c79990546985"
      },
      "execution_count": null,
      "outputs": [
        {
          "output_type": "execute_result",
          "data": {
            "text/plain": [
              "<matplotlib.axes._subplots.AxesSubplot at 0x7f993f50dca0>"
            ]
          },
          "metadata": {},
          "execution_count": 30
        },
        {
          "output_type": "display_data",
          "data": {
            "text/plain": [
              "<Figure size 432x288 with 1 Axes>"
            ],
            "image/png": "[encoded data removed]"
          },
          "metadata": {
            "needs_background": "light"
          }
        }
      ]
    },
    {
      "cell_type": "markdown",
      "source": [
        "This graph represent that at what time most of the riders end riding the bike.\n",
        "\n",
        "- we can see most of them do it at around 17.30 then at 19.13"
      ],
      "metadata": {
        "id": "nlSjvz3BwwGP"
      }
    },
    {
      "cell_type": "code",
      "source": [
        "dfss.end_hours_min.value_counts().sort_index().plot()"
      ],
      "metadata": {
        "colab": {
          "base_uri": "https://localhost:8080/",
          "height": 283
        },
        "id": "sB7PxTF7pDlk",
        "outputId": "522ed8f3-cef3-432c-b74f-c66e757d4672"
      },
      "execution_count": null,
      "outputs": [
        {
          "output_type": "execute_result",
          "data": {
            "text/plain": [
              "<matplotlib.axes._subplots.AxesSubplot at 0x7f991553b160>"
            ]
          },
          "metadata": {},
          "execution_count": 31
        },
        {
          "output_type": "display_data",
          "data": {
            "text/plain": [
              "<Figure size 432x288 with 1 Axes>"
            ],
            "image/png": "[encoded data removed]"
          },
          "metadata": {
            "needs_background": "light"
          }
        }
      ]
    },
    {
      "cell_type": "markdown",
      "source": [
        "Same graph intrepeting the same but with different visuals"
      ],
      "metadata": {
        "id": "copNo6oqxFzL"
      }
    },
    {
      "cell_type": "code",
      "source": [],
      "metadata": {
        "id": "CXj9vQZVxMCS"
      },
      "execution_count": null,
      "outputs": []
    },
    {
      "cell_type": "markdown",
      "source": [
        "Getting the mean of the duration_min "
      ],
      "metadata": {
        "id": "jAg50xr0xMoE"
      }
    },
    {
      "cell_type": "code",
      "source": [
        "dfss.duration_min.mean()"
      ],
      "metadata": {
        "colab": {
          "base_uri": "https://localhost:8080/"
        },
        "id": "kAe5Xpsdiacw",
        "outputId": "90fa629d-36d2-4dff-c336-14a8a2d2ffff"
      },
      "execution_count": null,
      "outputs": [
        {
          "output_type": "execute_result",
          "data": {
            "text/plain": [
              "19.41961185331487"
            ]
          },
          "metadata": {},
          "execution_count": 32
        }
      ]
    },
    {
      "cell_type": "code",
      "source": [],
      "metadata": {
        "id": "_7MiZIsOyPWk"
      },
      "execution_count": null,
      "outputs": []
    },
    {
      "cell_type": "markdown",
      "source": [
        "Implementing the code to get the mean of the duration_min of casual and members differently "
      ],
      "metadata": {
        "id": "xDZ8Gv9CyNbc"
      }
    },
    {
      "cell_type": "code",
      "source": [
        "data_jiss= dfss.groupby('member_casual')['duration_min'].mean()\n",
        "data_jiss\n"
      ],
      "metadata": {
        "colab": {
          "base_uri": "https://localhost:8080/"
        },
        "id": "ZskeFzygiiLE",
        "outputId": "147a60ce-a1b9-4b02-a1d3-7c525f78dd7a"
      },
      "execution_count": null,
      "outputs": [
        {
          "output_type": "execute_result",
          "data": {
            "text/plain": [
              "member_casual\n",
              "casual    29.108012\n",
              "member    12.705609\n",
              "Name: duration_min, dtype: float64"
            ]
          },
          "metadata": {},
          "execution_count": 33
        }
      ]
    },
    {
      "cell_type": "code",
      "source": [
        "data_jiss.plot.bar()"
      ],
      "metadata": {
        "colab": {
          "base_uri": "https://localhost:8080/",
          "height": 330
        },
        "id": "DZxYd9SuioHg",
        "outputId": "2a7cb2eb-85a0-4e9d-a4e8-d7dd020b8ecb"
      },
      "execution_count": null,
      "outputs": [
        {
          "output_type": "execute_result",
          "data": {
            "text/plain": [
              "<matplotlib.axes._subplots.AxesSubplot at 0x7f993f516c40>"
            ]
          },
          "metadata": {},
          "execution_count": 34
        },
        {
          "output_type": "display_data",
          "data": {
            "text/plain": [
              "<Figure size 432x288 with 1 Axes>"
            ],
            "image/png": "[encoded data removed]"
          },
          "metadata": {
            "needs_background": "light"
          }
        }
      ]
    },
    {
      "cell_type": "markdown",
      "source": [
        "Here, we can see the gap of the ride_length between the casual and member.\n",
        "- this iimplies that casual rides the bike double the member\n",
        "\n",
        "## [ ~ Member = 2Casual ]"
      ],
      "metadata": {
        "id": "WAb_mpH1ygY2"
      }
    },
    {
      "cell_type": "code",
      "source": [],
      "metadata": {
        "id": "QKBweYf8zTwb"
      },
      "execution_count": null,
      "outputs": []
    },
    {
      "cell_type": "code",
      "source": [],
      "metadata": {
        "id": "ZCaN2Ha8zTcB"
      },
      "execution_count": null,
      "outputs": []
    },
    {
      "cell_type": "markdown",
      "source": [
        "## Top 5 start_station used by Casuals"
      ],
      "metadata": {
        "id": "Y-2hVpMCzV34"
      }
    },
    {
      "cell_type": "code",
      "source": [
        "dfssg9 = dfss.groupby(['member_casual','start_station_name'])['start_station_name'].count()._get_value('casual').sort_values(ascending=False).head(5)\n",
        "dfssg9"
      ],
      "metadata": {
        "colab": {
          "base_uri": "https://localhost:8080/"
        },
        "id": "OJd1fTUDirdI",
        "outputId": "f25776c9-c3c0-4e1a-ecfd-8628f2e9a6d9"
      },
      "execution_count": null,
      "outputs": [
        {
          "output_type": "execute_result",
          "data": {
            "text/plain": [
              "start_station_name\n",
              "Streeter Dr & Grand Ave               58599\n",
              "DuSable Lake Shore Dr & Monroe St     32535\n",
              "Millennium Park                       25913\n",
              "Michigan Ave & Oak St                 25428\n",
              "DuSable Lake Shore Dr & North Blvd    23778\n",
              "Name: start_station_name, dtype: int64"
            ]
          },
          "metadata": {},
          "execution_count": 35
        }
      ]
    },
    {
      "cell_type": "code",
      "source": [
        "dfssg9.plot.bar()"
      ],
      "metadata": {
        "colab": {
          "base_uri": "https://localhost:8080/",
          "height": 470
        },
        "id": "urqcPGc1jBQT",
        "outputId": "b44ac9a3-ba03-4f2d-f744-31efb2c9aeca"
      },
      "execution_count": null,
      "outputs": [
        {
          "output_type": "execute_result",
          "data": {
            "text/plain": [
              "<matplotlib.axes._subplots.AxesSubplot at 0x7f991544fa30>"
            ]
          },
          "metadata": {},
          "execution_count": 36
        },
        {
          "output_type": "display_data",
          "data": {
            "text/plain": [
              "<Figure size 432x288 with 1 Axes>"
            ],
            "image/png": "[encoded data removed]"
          },
          "metadata": {
            "needs_background": "light"
          }
        }
      ]
    },
    {
      "cell_type": "code",
      "source": [],
      "metadata": {
        "id": "abiAB4ZHzeM0"
      },
      "execution_count": null,
      "outputs": []
    },
    {
      "cell_type": "markdown",
      "source": [
        "## Top 5 start_station used by Members\n",
        "\n"
      ],
      "metadata": {
        "id": "23HPbhZbzepQ"
      }
    },
    {
      "cell_type": "code",
      "source": [
        "dfssg10 = dfss.groupby(['member_casual','start_station_name'])['start_station_name'].count()._get_value('member').sort_values(ascending=False).head(5)\n",
        "dfssg10"
      ],
      "metadata": {
        "colab": {
          "base_uri": "https://localhost:8080/"
        },
        "id": "tXFttE8pjGfs",
        "outputId": "6993349e-5827-4fcd-d75a-2e9f102e2c22"
      },
      "execution_count": null,
      "outputs": [
        {
          "output_type": "execute_result",
          "data": {
            "text/plain": [
              "start_station_name\n",
              "Kingsbury St & Kinzie St        25389\n",
              "Clark St & Elm St               22350\n",
              "Wells St & Concord Ln           21595\n",
              "University Ave & 57th St        20201\n",
              "Clinton St & Washington Blvd    19950\n",
              "Name: start_station_name, dtype: int64"
            ]
          },
          "metadata": {},
          "execution_count": 37
        }
      ]
    },
    {
      "cell_type": "code",
      "source": [
        "dfssg10.plot.bar()"
      ],
      "metadata": {
        "colab": {
          "base_uri": "https://localhost:8080/",
          "height": 435
        },
        "id": "KpVWJb5KjLHo",
        "outputId": "7f365657-143a-4c01-ac56-a7a750c9cd7d"
      },
      "execution_count": null,
      "outputs": [
        {
          "output_type": "execute_result",
          "data": {
            "text/plain": [
              "<matplotlib.axes._subplots.AxesSubplot at 0x7f9914e18100>"
            ]
          },
          "metadata": {},
          "execution_count": 38
        },
        {
          "output_type": "display_data",
          "data": {
            "text/plain": [
              "<Figure size 432x288 with 1 Axes>"
            ],
            "image/png": "[encoded data removed]"
          },
          "metadata": {
            "needs_background": "light"
          }
        }
      ]
    },
    {
      "cell_type": "code",
      "source": [],
      "metadata": {
        "id": "sIT0ZHQtzoJR"
      },
      "execution_count": null,
      "outputs": []
    },
    {
      "cell_type": "markdown",
      "source": [
        "## Top 5 end_station used by Casuals"
      ],
      "metadata": {
        "id": "CrlonWV3zoeR"
      }
    },
    {
      "cell_type": "code",
      "source": [
        "dfssg11 = dfss.groupby(['member_casual','end_station_name'])['end_station_name'].count()._get_value('casual').sort_values(ascending=False).head(5)\n",
        "dfssg11"
      ],
      "metadata": {
        "colab": {
          "base_uri": "https://localhost:8080/"
        },
        "id": "cUnnvqJ9jOxU",
        "outputId": "a4170f0a-2d55-4d11-9ab8-317057bdc76b"
      },
      "execution_count": null,
      "outputs": [
        {
          "output_type": "execute_result",
          "data": {
            "text/plain": [
              "end_station_name\n",
              "Streeter Dr & Grand Ave               60477\n",
              "DuSable Lake Shore Dr & Monroe St     30001\n",
              "Millennium Park                       27152\n",
              "Michigan Ave & Oak St                 26702\n",
              "DuSable Lake Shore Dr & North Blvd    26269\n",
              "Name: end_station_name, dtype: int64"
            ]
          },
          "metadata": {},
          "execution_count": 39
        }
      ]
    },
    {
      "cell_type": "code",
      "source": [
        "dfssg11.plot.bar()"
      ],
      "metadata": {
        "colab": {
          "base_uri": "https://localhost:8080/",
          "height": 470
        },
        "id": "j1D_vQinjVGN",
        "outputId": "b0f3d4f1-1688-41bc-c027-02161d4c0cd6"
      },
      "execution_count": null,
      "outputs": [
        {
          "output_type": "execute_result",
          "data": {
            "text/plain": [
              "<matplotlib.axes._subplots.AxesSubplot at 0x7f9914df0880>"
            ]
          },
          "metadata": {},
          "execution_count": 40
        },
        {
          "output_type": "display_data",
          "data": {
            "text/plain": [
              "<Figure size 432x288 with 1 Axes>"
            ],
            "image/png": "[encoded data removed]"
          },
          "metadata": {
            "needs_background": "light"
          }
        }
      ]
    },
    {
      "cell_type": "code",
      "source": [],
      "metadata": {
        "id": "YlKNYpihzsbY"
      },
      "execution_count": null,
      "outputs": []
    },
    {
      "cell_type": "markdown",
      "source": [
        "## Top 5 end_station used by Members"
      ],
      "metadata": {
        "id": "d2C9eSwpzss5"
      }
    },
    {
      "cell_type": "code",
      "source": [
        "dfssg12 = dfss.groupby(['member_casual','end_station_name'])['end_station_name'].count()._get_value('member').sort_values(ascending=False).head(5)\n",
        "dfssg12"
      ],
      "metadata": {
        "colab": {
          "base_uri": "https://localhost:8080/"
        },
        "id": "etZlYQZijcf_",
        "outputId": "7a166d82-79db-44b9-8d00-4412d36aba7a"
      },
      "execution_count": null,
      "outputs": [
        {
          "output_type": "execute_result",
          "data": {
            "text/plain": [
              "end_station_name\n",
              "Kingsbury St & Kinzie St        24972\n",
              "Clark St & Elm St               22718\n",
              "Wells St & Concord Ln           22189\n",
              "University Ave & 57th St        20847\n",
              "Clinton St & Washington Blvd    20665\n",
              "Name: end_station_name, dtype: int64"
            ]
          },
          "metadata": {},
          "execution_count": 41
        }
      ]
    },
    {
      "cell_type": "code",
      "source": [
        "dfssg12.plot.bar()"
      ],
      "metadata": {
        "colab": {
          "base_uri": "https://localhost:8080/",
          "height": 435
        },
        "id": "ZIKZhJOjjlHw",
        "outputId": "aef10818-e041-41f8-af24-e98f164acd46"
      },
      "execution_count": null,
      "outputs": [
        {
          "output_type": "execute_result",
          "data": {
            "text/plain": [
              "<matplotlib.axes._subplots.AxesSubplot at 0x7f993f515af0>"
            ]
          },
          "metadata": {},
          "execution_count": 42
        },
        {
          "output_type": "display_data",
          "data": {
            "text/plain": [
              "<Figure size 432x288 with 1 Axes>"
            ],
            "image/png": "[encoded data removed]"
          },
          "metadata": {
            "needs_background": "light"
          }
        }
      ]
    },
    {
      "cell_type": "code",
      "source": [],
      "metadata": {
        "id": "bTtCg6kRz7S0"
      },
      "execution_count": null,
      "outputs": []
    },
    {
      "cell_type": "markdown",
      "source": [
        "# ***Conclusion***"
      ],
      "metadata": {
        "id": "xocYVOl1z8Kd"
      }
    },
    {
      "cell_type": "markdown",
      "source": [
        "- One of the reason for having the less ride length of members is because they think they have a annual membership and they can ride it any time in a month or year.\n",
        "- The less ride length also implies that the members used bikes for any sort of small work basicaly for shorter distance.\n",
        "- While the casual used bike for the travelling at larger distance.\n",
        "- The stations from where the member takes the bike might dont have enough of docked bike to supply which leads to no usage of docked bike or the other possible reason can be members do not prefer docked bike\n",
        "- We have also seen that casual mostly start riding around 2.30-3 pm in the afternoon during most(Wed,thurs,fri) of the days.\n",
        "- We have also seen that member mostly start riding around 1.30-2 pm in the afternoon almost all the days.\n",
        "- We have seen the rise of casuals on monday and sunday"
      ],
      "metadata": {
        "id": "bd01aJ5H0QKo"
      }
    },
    {
      "cell_type": "markdown",
      "source": [
        "# **Recommendation**"
      ],
      "metadata": {
        "id": "XpB06yUnz8Eo"
      }
    },
    {
      "cell_type": "markdown",
      "source": [
        "- We can focus on start-station where member usually visit and checks the availabilty of docked bikes\n",
        "- We have seen the rise of casuals on monday and sunday, by this we can focus on saling our membership to them on this days\n",
        "- We can focus on our marketing part during afternoon\n",
        "- We should also focus on keeping more bike in the afternoon\n",
        "- We can offer scheme to casuals for riding on weekdays as well\n",
        "- Same goes with member to offer schemes for riding on weekend.\n",
        " "
      ],
      "metadata": {
        "id": "E6jbcGu2z8CT"
      }
    },
    {
      "cell_type": "code",
      "source": [],
      "metadata": {
        "id": "02SdPJCJjonm"
      },
      "execution_count": null,
      "outputs": []
    }
  ]
}